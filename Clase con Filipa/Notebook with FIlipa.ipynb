{
 "cells": [
  {
   "cell_type": "code",
   "execution_count": null,
   "metadata": {},
   "outputs": [],
   "source": [
    "print(\"Hello world\")"
   ]
  },
  {
   "cell_type": "code",
   "execution_count": null,
   "metadata": {},
   "outputs": [],
   "source": [
    "# You can add comments with the # command.\n",
    "# If you need bigger comments you can use \"\"\".\n",
    "\n",
    "\"\"\"\n",
    "Hello\n",
    "\"\"\""
   ]
  },
  {
   "cell_type": "code",
   "execution_count": null,
   "metadata": {},
   "outputs": [],
   "source": [
    "\n",
    "message = \"Hello world!\"\n",
    "print(message)"
   ]
  },
  {
   "cell_type": "code",
   "execution_count": null,
   "metadata": {},
   "outputs": [],
   "source": [
    "# Let us do a quick calculation.\n",
    "\n",
    "initial = 100\n",
    "ir = 5\n",
    "years = 7\n",
    "final = initial*(1+ir/100)**years\n",
    "print(final)"
   ]
  },
  {
   "cell_type": "code",
   "execution_count": null,
   "metadata": {},
   "outputs": [],
   "source": [
    "#If you click 'b' you can add a new cell below the current one.\n",
    "#If you click 'm' you can change the cell to a markdown cell.\n",
    "#If you click 'y' you can change the cell to a code cell.\n",
    "#If you click 'd' twice you can delete the cell.\n"
   ]
  },
  {
   "cell_type": "code",
   "execution_count": null,
   "metadata": {},
   "outputs": [],
   "source": [
    "#Now we can check the boolean values.\n",
    "\n",
    "initial == 100\n",
    "#This tells us whether initial does have a value of 100.\n",
    "#Now let us work with this a little bit. Let us change a the value of initial.\n",
    "\n",
    "print (initial)\n",
    "initial = 200\n",
    "print (initial)\n",
    "\n",
    "#With '=' you can assign a value and with '==' you can check whether the value is true or false."
   ]
  },
  {
   "cell_type": "code",
   "execution_count": null,
   "metadata": {},
   "outputs": [],
   "source": [
    "#Every file has its own type. You can check the type with the type command.\n",
    "\n",
    "name = \"My name is Diego\"\n",
    "a=2\n",
    "b=2.\n",
    "\n",
    "#Once we place a . after the number it becomes a float.\n",
    "\n",
    "c=\"2\"\n",
    "d=True\n",
    "print(type(name))\n",
    "print(type(a))\n",
    "print(type(b))\n",
    "print(type(c))\n",
    "print(type(d))"
   ]
  },
  {
   "cell_type": "code",
   "execution_count": null,
   "metadata": {},
   "outputs": [],
   "source": [
    "#Now lets see the difference in machine language. Working with floats is difficult.\n",
    "\n",
    "v1 = 1/51*51\n",
    "v2=1/49*49\n",
    "\n",
    "#We know they must be one, but are they?\n",
    "\n",
    "print(v1)\n",
    "print(v2)\n",
    "\n",
    "#They are not the same. This is because the computer has a limited amount of memory to store the numbers.\n",
    "#This is why we have to be careful when working with floats.\n",
    "\n",
    "#We can also check whether they are truly one.\n",
    "print(v1==1)\n",
    "print(v2==1)"
   ]
  },
  {
   "cell_type": "code",
   "execution_count": null,
   "metadata": {},
   "outputs": [],
   "source": [
    "#We can set a precision. We can do this with the round command.\n",
    "print(round(v1)==1)"
   ]
  },
  {
   "cell_type": "code",
   "execution_count": null,
   "metadata": {},
   "outputs": [],
   "source": [
    "#We can print very nice with the print \"f\"\n",
    "\n",
    "pi = 3.1415926535\n",
    "print(f\"({pi:.4f}, {pi:.4})\")\n",
    "\n",
    "#This will print the first four digits of pi.\n",
    "#The 'f' in .4f is 4 decimals after the coma. If you do not add it is 4 digits in total."
   ]
  },
  {
   "cell_type": "code",
   "execution_count": null,
   "metadata": {},
   "outputs": [],
   "source": [
    "#Let us resume the calculation of interest.\n",
    "\n",
    "print(f\"After {years} years, an initial deposit of {initial} with an interest rate of {ir}% will be {final:.2f}\")\n",
    "\n",
    "#WARNING\n",
    "\n",
    "#You need to run the cells in order. Remember we changed the 'initial' variable. However we did NOT change the value of final.\n",
    "#So either redo the calculation of use new variables."
   ]
  },
  {
   "cell_type": "code",
   "execution_count": null,
   "metadata": {},
   "outputs": [],
   "source": [
    "#What if we want to use scientific notation?\n",
    "\n",
    "large = 10000000000\n",
    "print(large)\n",
    "print(f\"A lot :{large:g}.\")"
   ]
  },
  {
   "cell_type": "markdown",
   "metadata": {},
   "source": [
    "# LOOPS\n",
    "\n",
    "\n"
   ]
  },
  {
   "cell_type": "markdown",
   "metadata": {},
   "source": [
    "for element in list:\n",
    "<statement1>\n",
    "<statement2>\n",
    "..."
   ]
  },
  {
   "cell_type": "code",
   "execution_count": null,
   "metadata": {},
   "outputs": [],
   "source": [
    "#Be very much careful with indentation. Python is very strict with this.\n",
    "#Because we do not have brackets, we use indentation.\n",
    "\n",
    "for i in [0,1,2,3]:\n",
    "    print (\"Hello im\", i)"
   ]
  },
  {
   "cell_type": "code",
   "execution_count": null,
   "metadata": {},
   "outputs": [],
   "source": [
    "#We can use the range command to make this easier.\n",
    "for i in range(11):\n",
    "    final = initial*(1+ir/100)**i\n",
    "    print(f\"After {i} years, we would have {final:.2f}€ in the bank.\")\n",
    "    "
   ]
  },
  {
   "cell_type": "markdown",
   "metadata": {},
   "source": [
    "There are several things to be understood.\n",
    "1. The 'i' is our iterator variable\n",
    "2. This variable must have an initial value (here 0) and final value (here 10)\n",
    "3. The command 'range(N)' creates a list of integers from 0 to N-1. \n",
    "4. You can increase the step with the command 'range(a,b+1,s)' where you are starting on 'a', ending exactly on 'b' and with step 's'.\n",
    "5. You need indentation."
   ]
  },
  {
   "cell_type": "code",
   "execution_count": null,
   "metadata": {},
   "outputs": [],
   "source": [
    "#We can put loops inside loops\n",
    "for m in range(3):\n",
    "    for k in range(7):\n",
    "        print(f\"La multiplicación de {m} por {k} es {m*k}\")"
   ]
  },
  {
   "cell_type": "markdown",
   "metadata": {},
   "source": [
    "\n",
    "Let us do a little exercise\n",
    "\n",
    "Write a loop that calculates the sum of all integers from 1 to N ad print out the final result."
   ]
  },
  {
   "cell_type": "code",
   "execution_count": null,
   "metadata": {},
   "outputs": [],
   "source": [
    "N = 100\n",
    "result=0\n",
    "for i in range(1,N+1,1):\n",
    "    result=result+i\n",
    "print(f\"The final result is {result}\")"
   ]
  },
  {
   "cell_type": "markdown",
   "metadata": {},
   "source": [
    "Now let us doo WHILE LOOPS\n"
   ]
  },
  {
   "cell_type": "code",
   "execution_count": null,
   "metadata": {},
   "outputs": [],
   "source": [
    "#Let us do a while loop\n",
    "i=0\n",
    "initial=100\n",
    "ir=5\n",
    "while i<11: #the Boolean condition controlling the loop\n",
    "    final=initial*(1+ir/100)**i\n",
    "    print(f\"After {i} years, we would have {final:.2f}€ in the bank.\")\n",
    "    i+=1  #This is the increment of the loop."
   ]
  },
  {
   "cell_type": "code",
   "execution_count": null,
   "metadata": {},
   "outputs": [],
   "source": [
    "#Let us redo the exercise with the while loop.\n",
    "i=0\n",
    "result=0\n",
    "N=100\n",
    "while i<N+1:\n",
    "    result=result+i\n",
    "    i+=1\n",
    "print(f\"The final result is {result}\")"
   ]
  },
  {
   "cell_type": "markdown",
   "metadata": {},
   "source": [
    "Boolean Logic:\n",
    "\n",
    "- AND : only true when they are both true\n",
    "- OR: true when one of them is true\n",
    "- NOT: ...."
   ]
  },
  {
   "cell_type": "markdown",
   "metadata": {},
   "source": [
    "# Functions"
   ]
  },
  {
   "cell_type": "code",
   "execution_count": null,
   "metadata": {},
   "outputs": [],
   "source": [
    "#What if we do not want to copy and paste everytime. We can use functions.\n",
    "\n",
    "#For that we use the 'def' command.\n",
    "\n",
    "\"\"\"\n",
    "def function_name(argument1, argument2):\n",
    "    local_variable = argument1 + argument2\n",
    "    return local_variable\n",
    "    \n",
    "\"\"\""
   ]
  },
  {
   "cell_type": "code",
   "execution_count": null,
   "metadata": {},
   "outputs": [],
   "source": [
    "#Let us do the interest function\n",
    "\n",
    "def final_amount(initial, years):\n",
    "    final = initial*(1+ir/100)**years\n",
    "    return final\n",
    "\n",
    "#When you run this function in jupyter, you will not see anything. You need to call the function."
   ]
  },
  {
   "cell_type": "code",
   "execution_count": null,
   "metadata": {},
   "outputs": [],
   "source": [
    "#However after you call, you will see the result.\n",
    "\n",
    "final_amount(100,7)"
   ]
  },
  {
   "cell_type": "code",
   "execution_count": null,
   "metadata": {},
   "outputs": [],
   "source": [
    "#Another thing to take into account is DOCUMENTING YOUR FUNCTION.\n",
    "#How do we do this?\n",
    "\n",
    "#We need to use the \"\"\" command.\n",
    "\n",
    "def final_amount(initial, years):\n",
    "    \"\"\"\n",
    "\n",
    "    Args:\n",
    "        initial (float): The initial value of the deposit.\n",
    "        years (integer): The amount of years it will be deposited.\n",
    "    \n",
    "    Returns:\n",
    "    \n",
    "        final: The final amount of the deposit after the years.\n",
    "    \n",
    "    \"\"\"\n",
    "    final = initial*(1+ir/100)**years\n",
    "    return final\n",
    "    "
   ]
  },
  {
   "cell_type": "code",
   "execution_count": null,
   "metadata": {},
   "outputs": [],
   "source": [
    "#Let us do the same function as before\n",
    "\n",
    "def suma(N):\n",
    "    \"\"\"\n",
    "    Args:\n",
    "        N (integer): The number until which we want to sum.\n",
    "    \n",
    "    Returns:\n",
    "    \n",
    "        result: The final result of the sum.\n",
    "    \n",
    "    \"\"\"\n",
    "    result=0\n",
    "    for i in range(1,N+1,1):\n",
    "        result=result+i\n",
    "    return result"
   ]
  },
  {
   "cell_type": "code",
   "execution_count": null,
   "metadata": {},
   "outputs": [],
   "source": [
    "#Remember, variables INSIDE a function python does not know what they are. They are local variables.\n",
    "#If you want to use them outside the function, you need to return them.\n",
    "\n",
    "\n",
    "#You can change the order of the function if it needs multiple parameters ONLY IF YOU REMEMBER THE VARIABLE NAME."
   ]
  },
  {
   "cell_type": "code",
   "execution_count": null,
   "metadata": {},
   "outputs": [],
   "source": [
    "#Let us do a little exercise. \n",
    "#Define a function that returns the area and the perimeter of a given circle's radius.\n",
    "from math import pi\n",
    "print (pi)\n",
    "\n",
    "def perimetro_area(r):\n",
    "    \"\"\"\n",
    "    Args:\n",
    "        r (float): The radius of the circle.\n",
    "    \n",
    "    Returns:\n",
    "    \n",
    "        perimetro: The perimeter of the circle.\n",
    "        area: The area of the circle.\n",
    "    \n",
    "    \"\"\"\n",
    "    perimetro = 2*pi*r\n",
    "    area = pi*r**2\n",
    "    return perimetro, area"
   ]
  },
  {
   "cell_type": "code",
   "execution_count": null,
   "metadata": {},
   "outputs": [],
   "source": [
    "#Let us check whether the perimeter and area are correct.\n",
    "#Remember the ORDER it exports the variables.\n",
    "\n",
    "perimetro, area = perimetro_area(5)\n",
    "\n",
    "print(f\"The perimeter of the circle is {perimetro:.2f} and the area is {area:.2f}\")"
   ]
  },
  {
   "cell_type": "code",
   "execution_count": null,
   "metadata": {},
   "outputs": [],
   "source": [
    "#Functions dont need to have a return value. They can be void functions.\n",
    "\n",
    "def silly(input):\n",
    "    print(input)\n",
    "\n",
    "silly(\"hello\")"
   ]
  },
  {
   "cell_type": "markdown",
   "metadata": {},
   "source": [
    "# If statements\n",
    "\n",
    "\n",
    "if condition:\n",
    "\n",
    "    < code that executes if the condition is true>\n",
    "\n",
    "elif (in order and you can concatenate conditions)\n",
    "\n",
    "else (you dont need else)\n",
    "    \n",
    "    < code outside the if statement>"
   ]
  },
  {
   "cell_type": "code",
   "execution_count": null,
   "metadata": {},
   "outputs": [],
   "source": [
    "#Let us do a change to the bank function.\n",
    "#We will change whether the interest rate is 5, 6 or 8 depending on the initial deposit.\n",
    "#We will be using if, elif and else\n",
    "\n",
    "def final_amount(initial, years):\n",
    "    \n",
    "    if initial <= 1000:\n",
    "        ir = 5\n",
    "    elif initial <= 10000:\n",
    "        ir = 6\n",
    "    else:\n",
    "        ir = 8\n",
    "    \n",
    "    final_amount=initial*(1+ir/100)**years\n",
    "    \n",
    "    #I've added the ir to the return so we can check the interest rate.\n",
    "    \n",
    "    return final_amount, ir\n"
   ]
  },
  {
   "cell_type": "code",
   "execution_count": null,
   "metadata": {},
   "outputs": [],
   "source": [
    "print(final_amount(999,7))\n",
    "print(final_amount(1000,7))\n",
    "print(final_amount(1001,7))\n",
    "print(\"--------\")\n",
    "print(final_amount(9999,7))\n",
    "print(final_amount(10000,7))\n",
    "print(final_amount(10001,7))"
   ]
  },
  {
   "cell_type": "markdown",
   "metadata": {},
   "source": [
    "# Lists\n",
    "\n",
    "We will be using [element0, element1,...,elementfinal]\n",
    "\n",
    "Python indexes start at 0"
   ]
  },
  {
   "cell_type": "code",
   "execution_count": null,
   "metadata": {},
   "outputs": [],
   "source": [
    "list1=[1,2,3,4,5,6,7,8,9,10]\n",
    "list2=[pi,'hello',4]\n",
    "print(list1)\n",
    "print(list2)\n",
    "\n"
   ]
  },
  {
   "cell_type": "code",
   "execution_count": null,
   "metadata": {},
   "outputs": [],
   "source": [
    "#you can create an empty list and then you can start filling it.\n",
    "\n",
    "empty =[]\n",
    "len(empty)"
   ]
  },
  {
   "cell_type": "code",
   "execution_count": null,
   "metadata": {},
   "outputs": [],
   "source": [
    "#If we want to add a single element to the end\n",
    "my_first_list1=[1,2,3,4,5,6,7,8,9,10]\n",
    "\n",
    "my_first_list1.append(11)\n",
    "print(my_first_list1)\n",
    "\n",
    "#If we want to add more than one element at the end\n",
    "\n",
    "my_first_list1= my_first_list1 + [12,13]\n",
    "print(my_first_list1)\n",
    "\n",
    "#To delete a specific element of the list\n",
    "del(my_first_list1[0])\n",
    "print(my_first_list1)"
   ]
  },
  {
   "cell_type": "code",
   "execution_count": null,
   "metadata": {},
   "outputs": [],
   "source": [
    "#Let us do the bank but now all the data has to be stored.\n",
    "\n",
    "\n",
    "def final_list(initial, years):\n",
    "    \n",
    "    list=[]\n",
    "    ir=5\n",
    "    \n",
    "    for i in range(years+1):\n",
    "        final_amount=initial*(1+ir/100)**i\n",
    "        list.append(final_amount)\n",
    "    \n",
    "    return final_amount, list\n",
    "    \n",
    "print(final_list(100,3))"
   ]
  },
  {
   "cell_type": "code",
   "execution_count": null,
   "metadata": {},
   "outputs": [],
   "source": [
    "#Be careful with this. Graphical example is better.\n",
    "L1=[1,2,3]\n",
    "L2=L1\n",
    "\n",
    "#THIS MAKES PYTHON REMEMBER THE LIST, even if you change L1 in another code, see below."
   ]
  },
  {
   "cell_type": "code",
   "execution_count": null,
   "metadata": {},
   "outputs": [],
   "source": [
    "L1[-1]=\"!\"\n",
    "\n",
    "#we changed L1, but L2 also changed.\n",
    "print(L2)"
   ]
  },
  {
   "cell_type": "code",
   "execution_count": null,
   "metadata": {},
   "outputs": [],
   "source": [
    "#To avoid this we can copy the list. We can do this with the copy command. \n",
    "L1=[1,2,3]\n",
    "L3 = L1.copy()\n",
    "L1[-1]=\"!\"\n",
    "print(L3)"
   ]
  },
  {
   "cell_type": "code",
   "execution_count": null,
   "metadata": {},
   "outputs": [],
   "source": [
    "#We can also do lists of lists.\n",
    "nest=[L1,L2,L3]\n",
    "print(nest)\n",
    "\n",
    "#This is like a matrix, we first choose the element 0 of nest and of that list, element 1.\n",
    "nest[0][1]\n"
   ]
  },
  {
   "cell_type": "code",
   "execution_count": null,
   "metadata": {},
   "outputs": [],
   "source": [
    "#We can also do list slicing. This is very useful.\n",
    "print(my_first_list1)\n",
    "\n",
    "#The : is in steps of 2. It is the same syntax as in the range command.\n",
    "#The len() command is to know the length of the list.\n",
    "\n",
    "print(my_first_list1[0:len(L2):2])"
   ]
  },
  {
   "cell_type": "markdown",
   "metadata": {},
   "source": [
    "# -------------------- NUMPY INTRODUCTION --------------------------"
   ]
  },
  {
   "cell_type": "markdown",
   "metadata": {},
   "source": [
    "Numpy is compatible with numba, a program that optimises your python program.\n",
    "\n",
    "Numpy is extremely used, so every problem you have you can find it on google."
   ]
  },
  {
   "cell_type": "markdown",
   "metadata": {},
   "source": [
    "##### Whenever you want to use a library, you need to IMPORT it\n",
    "\n",
    "It is recommended that you import at the start.\n",
    "\n",
    "Whenever you need to call a library, you can use 'as' command, because if not you would need to write numpy. everytime\n",
    "\n",
    "It should look like 'import numpy as np'\n",
    "\n",
    "It is a bad idea to use 'from numpy import *'. This imports every function of numpy and you dont need to use numpy. everytime. However this is a bad idea because now you dont know which library are you using, if using more than one library it can overlap, etc..\n"
   ]
  },
  {
   "cell_type": "markdown",
   "metadata": {},
   "source": []
  },
  {
   "cell_type": "code",
   "execution_count": null,
   "metadata": {},
   "outputs": [],
   "source": [
    "#An example of importing things\n",
    "import os\n",
    "import scipy\n",
    "import numpy as np\n",
    "import matplotlib as plt\n"
   ]
  },
  {
   "cell_type": "code",
   "execution_count": null,
   "metadata": {},
   "outputs": [],
   "source": [
    "#An example of using numpy\n",
    "root = np.sqrt(2)\n",
    "print(root)"
   ]
  },
  {
   "cell_type": "markdown",
   "metadata": {},
   "source": [
    "We use numpy primary to use vectors and matrices.\n",
    "\n",
    "We can create a vector with the np.array command.\n",
    "\n"
   ]
  },
  {
   "cell_type": "code",
   "execution_count": null,
   "metadata": {},
   "outputs": [],
   "source": [
    "vec=np.array([1,2,3]) #A vector with 3 elements\n",
    "A=np.array([[1,2,3],[4,5,6],[7,8,9]]) #A 3x3 matrix\n",
    "B=np.array([[[1,2],[3,4]],[[5,6],[7,8]],[[9,10],[11,12]]]) #A 3x2x2 tensor\t"
   ]
  },
  {
   "cell_type": "code",
   "execution_count": null,
   "metadata": {},
   "outputs": [],
   "source": [
    "#Now lets see them\n",
    "print('vec as a vector:',vec)\n",
    "print('A as a matrix:',A)  \n",
    "print('B as a tensor:',B)"
   ]
  },
  {
   "cell_type": "code",
   "execution_count": null,
   "metadata": {},
   "outputs": [],
   "source": [
    "#You should know the shape of the array, even though sometimes it can be confusing.\n",
    "#We can check the shape of the array with the shape command.\n",
    "\n",
    "print(vec.shape)\n",
    "print(A.shape)\n",
    "print(B.shape)"
   ]
  },
  {
   "cell_type": "code",
   "execution_count": null,
   "metadata": {},
   "outputs": [],
   "source": [
    "#You can also use the .size command, giving you the total number of elements in the array.\n",
    "print(vec.size)\n",
    "print(A.size)\n",
    "print(B.size)\n",
    "#You can also use np.shape and np.size"
   ]
  },
  {
   "cell_type": "markdown",
   "metadata": {},
   "source": [
    "#### What is the advantage of using an np.array?\n",
    "\n",
    "The numbers inside must be of the same type so this eliminates some problems.\n",
    "\n",
    "They are much more efficiently made.\n"
   ]
  },
  {
   "cell_type": "code",
   "execution_count": null,
   "metadata": {},
   "outputs": [],
   "source": [
    "#If we do the comand .dtype we can see the type of the array.\n",
    "\n",
    "print(vec.dtype)\n",
    "print(A.dtype)\n",
    "print(B.dtype)\n"
   ]
  },
  {
   "cell_type": "code",
   "execution_count": null,
   "metadata": {},
   "outputs": [],
   "source": [
    "#If we dont put anything it will assume it is an integer.\n",
    "#But what if we want to specify the type of the array?\n",
    "\n",
    "M1=np.array([[1,2],[3,4]], dtype=int)\n",
    "M2=np.array([[1,2],[3,4]], dtype=complex)\n",
    "\n",
    "print(M1.dtype)\n",
    "print(M2.dtype)"
   ]
  },
  {
   "cell_type": "code",
   "execution_count": null,
   "metadata": {},
   "outputs": [],
   "source": [
    "#We can also create RANGE arrays with arange command.\n",
    "\n",
    "v=np.arange(0,10,1)\n",
    "print(v)\n",
    "\n",
    "v=np.arange(-1,1,0.1)\n",
    "print(v)\n",
    "\n",
    "#Remember 2 things: The last element is not included and the step is not included.\n",
    "#And the precision problems with floats. 0 is not -2.220446049250313e-16."
   ]
  },
  {
   "cell_type": "code",
   "execution_count": null,
   "metadata": {},
   "outputs": [],
   "source": [
    "#If you use .linspace(a,b,c) you can create an array with c elements between a and b WITH 'b' INCLUDED.\n",
    "v=np.linspace(0,10,11)\n",
    "print(v)\n",
    "\n",
    "v=np.linspace(-1,1,21)\n",
    "print(v)"
   ]
  },
  {
   "cell_type": "code",
   "execution_count": null,
   "metadata": {},
   "outputs": [],
   "source": [
    "#We can also create arrays of zeros and ones.\n",
    "\n",
    "Z1=np.zeros(2, dtype=int)\n",
    "Z2=np.zeros((3,3), dtype=float)\n",
    "O1=np.ones(2, dtype=int)\n",
    "O2=np.ones((3,3), dtype=float)\n"
   ]
  },
  {
   "cell_type": "code",
   "execution_count": null,
   "metadata": {},
   "outputs": [],
   "source": [
    "#We can also use random numbers. We can use the random command.\n",
    "\n",
    "Identity=np.eye(3) #This creates a 3x3 identity matrix\n",
    "Diagonal=np.diag([1,2,3,4,5,6,7,8,9,10]) #This creates a matrix with the input list in the diagonal\n",
    "Random=np.random.rand(3,3) #Creates a 3x3 matrix with random numbers between 0 and 1\n",
    "\n",
    "print(Identity)\n",
    "print(Diagonal)\n",
    "print(Random)"
   ]
  },
  {
   "cell_type": "code",
   "execution_count": null,
   "metadata": {},
   "outputs": [],
   "source": [
    "#You can manipulate arrays with numpy. You can add, subtract, multiply, divide, etc.\n",
    "#It is just like lists.\n",
    "\n",
    "v=np.linspace(0,10,11)\n",
    "print(v)\n",
    "print(v[2])\n",
    "print(Random)\n",
    "\n",
    "#This prints the element in the second row and second column.\n",
    "print(Random[1,1])\n",
    "\n",
    "#This prints the second row of the matrix.\n",
    "print(Random[1,:])"
   ]
  },
  {
   "cell_type": "code",
   "execution_count": null,
   "metadata": {},
   "outputs": [],
   "source": [
    "#Exercise:\n",
    "import numpy as np\n",
    "#Use an array and a loop to calculate the values of the sine function from 0 to 2pi in steps of 0.01*2pi\n",
    "\n",
    "x=2*np.pi*np.linspace(0,1,101)\n",
    "seno=[]\n",
    "for n in range(len(x)):\n",
    "    seno.append(np.sin(x[n]))\n",
    "print(seno)\n",
    "\n",
    "\n",
    "#We can also skip the for loop like this. We don't need the for loop if we are putting it in a list. \n",
    "#It already understands that you need to do it for every element of the array.\n",
    "\n",
    "y = 2*np.pi*np.linspace(0,1,101)\n",
    "sine =np.sin(y)\n",
    "print(sine)\n"
   ]
  },
  {
   "cell_type": "markdown",
   "metadata": {},
   "source": [
    "# ------------------- JOEL PROTEUS-----------------\n",
    "\n",
    "To enter Joel\n",
    "\n",
    "ssh cphys-username@joel.ugr.es\n",
    "\n",
    "It will ask you for your password, and even though it appears you are not writing you are indeed writing.\n",
    "\n",
    "\n",
    "You will need to navigate once inside joel.\n",
    "\n",
    "You will need to use google.\n",
    "\n",
    "### The commands are these:\n",
    "\n",
    "- 'ls' tells you the bins you have\n",
    "- 'cd _foldername_' you get inside the bin. If you write '..' you will exit the bin you are. You would want to get inside 'COMPARTIDO'\n",
    "- 'mkdir' creates a folder, it makes a directory.\n",
    "- 'ls -lh' puts it in a nicer way.\n",
    "- 'pwd' tells you the directory you are in. It is pretty useful for the next step.\n",
    "- 'scp' means copy TO server. You will need to put the name of the file or the path, then your name then the directory. \n",
    "    - For example. 'scp [space] _NameOfFile/Path_ [space] _YourName_:/_FolderInJoel_. \n",
    "- 'scp' means to copy FROM server. \n",
    "    - For example. 'scp [space] _YourName_ :/ _PathofArchivo_ [space] _FolderInYourComputer\n",
    "    - scp [space] cphys-diego.contrerasolmos@joel.ugr.es:/home/.../file.ipynb [space] /c/User/diego/Desktop/'Física computacional'/Fisica-Computacional.\n",
    "        - I have 'Física computacional' in between '' because it contains spaces and accents.\n"
   ]
  },
  {
   "cell_type": "markdown",
   "metadata": {},
   "source": [
    "# -------GITHUB AND GIT-------------\n",
    "\n",
    "\n",
    "### We will be seeing how to connect to git and stuff.\n",
    "\n",
    "Filipa's github account \"fcrperes\".\n",
    "\n",
    "We now will be using the terminal this time\n",
    "\n",
    "### Commands:\n",
    "\n",
    "- 'git' ALWAYS used.\n",
    "- 'git clone' makes you clone a certain repository to your computer.\n",
    "    - For example 'git clone _PathFromGithub_'\n",
    "- 'git add' makes you add the file to the path you just select.\n",
    "    - "
   ]
  },
  {
   "cell_type": "markdown",
   "metadata": {},
   "source": [
    "\n"
   ]
  },
  {
   "cell_type": "code",
   "execution_count": null,
   "metadata": {},
   "outputs": [],
   "source": [
    "#We will now use the exponential.\n",
    "\n",
    "M=np.array([[1,2],[3,4]])\n",
    "print(M)\n",
    "M=M**2\n",
    "#This will square every element of the matrix. Not the matrix itself.\n",
    "print(M)\n",
    "\n",
    "#using * for multyplying performs an element wise multiplication.\n",
    "#So if you want to do a matrix multiplication you need to use the dot command. Np.dot\n",
    "\n",
    "M=np.array([[1,2],[3,4]])\n",
    "print(\"This is the correct result\").\n",
    "print(np.dot(M,M))\n",
    "\n",
    "#Another commands are:\n",
    "print(f\"Outer product = {np.outer(M,M)}\")\n",
    "print(f\"Inner product = {np.inner(M,M)}\")\n",
    "print(f\"Trace = {np.trace(M)}\")\n",
    "print(f\"Transpose = {np.transpose(M)}\")\n",
    "print(f\"Determinant = {np.linalg.det(M)}\")\n",
    "print(f\"Inverse = {np.linalg.inv(M)}\")\n"
   ]
  },
  {
   "cell_type": "code",
   "execution_count": null,
   "metadata": {},
   "outputs": [],
   "source": [
    "#Exercise:\n",
    "import math\n",
    "import scipy\n",
    "\n",
    "Z = np.array([[2,3,2,4],[4,1,0,17],[24,0,-1,-3],[4,2,14,2]])\n",
    "print(Z)\n",
    "\n",
    "for i in range(4):\n",
    "    for j in range(4):\n",
    "        \n",
    "        if j==i:\n",
    "            pass\n",
    "        elif j==3 and i==0:  \n",
    "            pass\n",
    "        elif i==3 and j==0:\n",
    "            pass\n",
    "        else:\n",
    "            Z[i,j]=0\n",
    "\n",
    "print(\"Now for H\")\n",
    "print(Z)\n",
    "H=np.array(Z)\n",
    "\n",
    "#Now write a code that extracts from H the 2x2 matrix that is not 0 nor in the diagonal, so (2,4,4,2). Then take the exponential.\n",
    "\n",
    "H=np.delete(H, [1,2], 0)\n",
    "H=np.delete(H, [1,2], 1)\n",
    "print(H)\n",
    "print(\"H is now complex\")\n",
    "H_complex=H*1j\n",
    "print(H_complex)\n",
    "print(\"La exponencial\")\n",
    "A=np.array([[0,0],[0,0]])\n",
    "A_complex = A*1j\n",
    "print(A_complex)\n",
    "n=10\n",
    "for i in range(n):\n",
    "    A=A+1/math.factorial(i)*H**i\n",
    "\n",
    "print(A)\n",
    "print(\"La exponencial de numpy\")\n",
    "B= np.exp(H)\n",
    "print(B)\n",
    "                \n",
    "        "
   ]
  },
  {
   "cell_type": "code",
   "execution_count": null,
   "metadata": {},
   "outputs": [],
   "source": [
    "#We can create a path to a file with the os command.\n",
    "\n",
    "path = \"/Users/diego/Desktop/Física computacional/Fisica-Computacional/Clase con Filipa/\"\n",
    "folder= path + \"/Data/\"\n",
    "#We can save it to that path.\n",
    "\n",
    "x=np.linspace(0,10,11)\n",
    "y=np.sin(2*np.pi*x)\n",
    "print(y)\n",
    "\n",
    "np.save(os.path.join(path,\"sine\"),x)\n",
    "\n",
    "#This saves the file in the path. \n",
    "\n",
    "#With the command np.savez(\"Direccto to save including file name\", namearray1, namearray2, ...)\n",
    "\n",
    "\n",
    "#IT DOES NOT WORK. I NEED TO FIX IT.\n",
    " #np.savez(folder + \"sine\", x=x, y=y)"
   ]
  },
  {
   "cell_type": "code",
   "execution_count": null,
   "metadata": {},
   "outputs": [],
   "source": [
    "\n",
    "#We can save through np.save as well.\n",
    "yearly_amount = np.zeros(10)\n",
    "\n",
    "np.save(path + \"Money\", yearly_amount)"
   ]
  },
  {
   "cell_type": "code",
   "execution_count": null,
   "metadata": {},
   "outputs": [],
   "source": [
    "#We can also load this with np.load command.\n",
    "\n",
    "results = np.load(path + \"sine.npy\")\n",
    "\n",
    "#If you have multiple you can do\n",
    "\n",
    "    \"\"\"\n",
    "    data = np.load(folder + \"sine.npz\")\n",
    "    x = data['x']\n",
    "    y = data['y']\n",
    "    \n",
    "    \"\"\""
   ]
  },
  {
   "cell_type": "markdown",
   "metadata": {},
   "source": [
    "# PLOTING WITH MATPLOTLIB\n"
   ]
  },
  {
   "cell_type": "code",
   "execution_count": null,
   "metadata": {},
   "outputs": [],
   "source": [
    "#we can start with the sine function.\n",
    "import matplotlib.pyplot as plt\n",
    "\n",
    "x=2*np.pi*np.linspace(0,1,101)\n",
    "y=np.sin(x)\n",
    "\n",
    "plt.plot(x,y, label=r'Hello $\\sin(x)$')\n",
    "plt.xlabel(\"Angle (in radians)\")  # Label for the x axis\n",
    "plt.ylabel(\"sin(x)\")              # Label for the y axis\n",
    "plt.legend()                      # Adding a legend (more useful when we plot multiple functions)\n",
    "plt.title(\"My first plot\")        # The title of the graph\n",
    "plt.show()"
   ]
  },
  {
   "cell_type": "code",
   "execution_count": null,
   "metadata": {},
   "outputs": [],
   "source": [
    "plt.rcParams['text.usetex'] = True  # rcParams is a function that allows plot personalization\n",
    "\n",
    "x = 2*np.pi*np.linspace(0,1,101)\n",
    "y = np.sin(x)\n",
    "\n",
    "plt.plot(x,y, label = r'$\\sin(\\theta)$')\n",
    "plt.xlabel(r'$\\theta$', fontsize = 16)           \n",
    "plt.ylabel(r'$\\sin(\\theta)$', fontsize = 16)     \n",
    "plt.legend()                                     \n",
    "plt.title(r'\\textbf{My second plot}', fontsize = 20)        \n",
    "plt.axis([0, 2*np.pi, -1,1])  # Sets the length of the two axis. (Compare with the previous one)\n",
    "plt.show()"
   ]
  },
  {
   "cell_type": "code",
   "execution_count": null,
   "metadata": {},
   "outputs": [],
   "source": [
    "#We can plot more than one curve and edit it.\n",
    "\n",
    "#This is an example for IMPLICIT plot.\n",
    "\n",
    "plt.rcParams['text.usetex'] = True\n",
    "\n",
    "x = 2*np.pi*np.linspace(0,1,100)\n",
    "y1 = np.cos(x)\n",
    "y2 = np.sin(x)\n",
    "plt.plot(x,y1, 'r--', label = r'$\\cos(\\theta)$')   # The second parameter indicates the color and shape of the line\n",
    "plt.plot(x,y2, 'b*', label = r'$\\sin(\\theta)$')\n",
    "\n",
    "plt.xlabel(r'$\\theta$', fontsize = 16)           \n",
    "plt.ylabel(r'$f(\\theta)$', fontsize = 16)     \n",
    "plt.legend()                                     \n",
    "plt.title(r'\\textbf{Sine and cosine}', fontsize = 20)        \n",
    "plt.axis([0, 2*np.pi, -1,1])                     \n",
    "plt.show()"
   ]
  },
  {
   "cell_type": "code",
   "execution_count": null,
   "metadata": {},
   "outputs": [],
   "source": [
    "#We can also plot more than one thing. These are SUBFIGURES.\n",
    "\n",
    "fig, axs = plt.subplots(ncols=2, nrows=2, figsize=(3.5, 2.5),\n",
    "                        layout=\"constrained\")\n",
    "\n",
    "for row in range(2):\n",
    "    for col in range(2):\n",
    "        axs[row, col].annotate(f'axs[{row}, {col}]', (0.5, 0.5),\n",
    "                            xycoords=axs[row, col].transAxes,\n",
    "                            #Ha horizontal alignment, VA vertical alignment\n",
    "                            ha='center', va='center', fontsize=18,\n",
    "                            color='darkgrey')\n",
    "      \n",
    "#axs[0,0].set_xlim(0,10)\n",
    "fig.suptitle('plt.subplots()')\n",
    "plt.show()"
   ]
  },
  {
   "cell_type": "code",
   "execution_count": null,
   "metadata": {},
   "outputs": [],
   "source": [
    "#We can also plot more than one thing. These are SUBFIGURES.\n",
    "\n",
    "fig, axs = plt.subplots(ncols=2, nrows=2, figsize=(3.5, 2.5),\n",
    "                        layout=\"constrained\")\n",
    "\n",
    "for row in range(2):\n",
    "    for col in range(2):\n",
    "        axs[row, col].annotate(f'axs[{row}, {col}]', (0.5, 0.5),\n",
    "                            xycoords=axs[row, col].transAxes,\n",
    "                            ha='center', va='center', fontsize=18,\n",
    "                            color='darkgrey')\n",
    "      \n",
    "axs[0,0].set_xlim(0,10)\n",
    "fig.suptitle('plt.subplots()')\n",
    "plt.show()"
   ]
  },
  {
   "cell_type": "code",
   "execution_count": null,
   "metadata": {},
   "outputs": [],
   "source": [
    "#If you dont specify the number of subplots, it will assume it is only one and fit everything there.\n",
    "\n",
    "#This is an example for EXPLICIT plot.\n",
    "plt.rcParams['text.usetex'] = True\n",
    "x = 2*np.pi*np.linspace(0,1,100)\n",
    "y1 = np.cos(x)\n",
    "y2 = np.sin(x)\n",
    "fig, ax = plt.subplots()\n",
    "ax.plot(x,y1, 'r', label = r'$\\cos(\\theta)$')    \n",
    "ax.plot(x,y2, 'b', label = r'$\\sin(\\theta)$')\n",
    "ax.set_xlabel(r'$\\theta$', fontsize = 16)\n",
    "ax.set_ylabel(r'$f(\\theta)$', fontsize = 20)\n",
    "ax.set_title(r'\\textbf{Two functions in the same figure}')\n",
    "ax.legend()\n",
    "plt.show()"
   ]
  },
  {
   "cell_type": "code",
   "execution_count": null,
   "metadata": {},
   "outputs": [],
   "source": [
    "#Matplotlib can plot in explicit mode or implicit mode, depending on the commands you use.\n",
    "#The first mode (with sine and cosine) was implicit and the second one is explicit.\n",
    "\n",
    "#In implicit you have no variable. You just plot the function. It assumes everything you put after is in the variable you just used.\n",
    "\n",
    "#In explicit you will need to specify everythibng, like with commands 'fig, ax = plt.subplots()'"
   ]
  },
  {
   "cell_type": "code",
   "execution_count": null,
   "metadata": {},
   "outputs": [],
   "source": [
    "#Exercise:\n",
    "\n",
    "#IMPORTANT, IF AN ARRAY IS ONE DIMENTIONAL, DO NOT INCLUDE NCOLS OR NROWS. IT WILL ASSUME IT IS ONE DIMENTIONAL\n",
    "\n",
    "x = 2*np.pi*np.linspace(0,1,100)\n",
    "y1 = np.cos(x)\n",
    "y2 = np.sin(x)\n",
    "\n",
    "fig, ax = plt.subplots(nrows=2, figsize=(3.5, 2.5),\n",
    "                        layout=\"constrained\")\n",
    "\n",
    "\n",
    "ax[0].plot(x,y1, 'r', label = r'$\\cos(\\theta)$')\n",
    "ax[1].plot(x,y2, 'b', label = r'$\\sin(\\theta)$')\n",
    "\n",
    "      \n",
    "#axs[0,0].set_xlim(0,10)\n",
    "fig.suptitle('Plots one on top of the other')\n",
    "plt.show()"
   ]
  },
  {
   "cell_type": "code",
   "execution_count": null,
   "metadata": {},
   "outputs": [],
   "source": [
    "#Exercise:\n",
    "\n",
    "\n",
    "\n",
    "x = 2*np.pi*np.linspace(0,1,100)\n",
    "y1 = np.cos(x)\n",
    "y2 = np.sin(x)\n",
    "\n",
    "fig, ax = plt.subplots(ncols=2, figsize=(3.5, 2.5),\n",
    "                        layout=\"constrained\")\n",
    "\n",
    "\n",
    "ax[0].plot(x,y1, 'r', label = r'$\\cos(\\theta)$')\n",
    "ax[1].plot(x,y2, 'b', label = r'$\\sin(\\theta)$')\n",
    "\n",
    "      \n",
    "#axs[0,0].set_xlim(0,10)\n",
    "fig.suptitle('Plots side by side')\n",
    "plt.show()"
   ]
  },
  {
   "cell_type": "code",
   "execution_count": null,
   "metadata": {},
   "outputs": [],
   "source": [
    "x = 2*np.pi*np.linspace(0,1,100)\n",
    "y1 = np.cos(x)\n",
    "y2 = np.sin(x)\n",
    "\n",
    "fig, ax = plt.subplots(ncols=2, nrows=2, figsize=(10, 8),\n",
    "                        layout=\"constrained\", label=r'$\\alpha$ HELLO NI')\n",
    " \n",
    "\n",
    "\n",
    "ax[0,0].plot(x,y1, 'r', label = r'$\\cos(\\theta)$')\n",
    "ax[1,1].plot(x,y2, 'b', label = r'$\\sin(\\theta)$')\n",
    "ax[0,0].set_xlabel(r'$\\cos(\\theta)$', fontsize = 16)\n",
    "ax[1,0].set_ylabel(r'$f(\\theta)$', fontsize = 20)\n",
    "ax[1,1].set_title(r'\\textbf{Hello}', fontsize = 20)\n",
    "\n",
    "      \n",
    "#axs[0,0].set_xlim(0,10)\n",
    "fig.suptitle('Allplots', ha='center', va='center', fontsize=18,\n",
    "                            color='red')\n",
    "\n",
    "plt.show()"
   ]
  },
  {
   "cell_type": "code",
   "execution_count": null,
   "metadata": {},
   "outputs": [],
   "source": [
    "#We can also do a whole figure and then add a subplot. This is used by the command add_subplot.\n",
    "\n",
    "fig = plt.figure(figsize=(10, 8))\n",
    "\n",
    "#This means, 2 rows, 2 columns and in the position 1.\n",
    "fig.add_subplot(221)\n",
    "fig.add_subplot(232)\n",
    "\n",
    "#As you can see, it is very difficult to read so it is not advisory.\n",
    "\n",
    "plt.show()"
   ]
  },
  {
   "cell_type": "code",
   "execution_count": null,
   "metadata": {},
   "outputs": [],
   "source": [
    "#Let us save these plots.\n",
    "\n",
    "path = \"\\\\Users\\\\diego\\Desktop\\\\Física computacional\\\\Fisica-Computacional\\\\Clase con Filipa\"\n",
    "folder = path + \"\\\\plots\"\n",
    "\n",
    "try:\n",
    "    os.makedirs(folder)\n",
    "except FileExistsError:\n",
    "    pass\n",
    "\n",
    "plt.rcParams['text.usetex'] = True\n",
    "\n",
    "x = 2*np.pi*np.linspace(0,1,100)\n",
    "y1 = np.cos(x)\n",
    "y2 = np.sin(x)\n",
    "fig, ax = plt.subplots()\n",
    "ax.plot(x,y1, 'r', label = r'$\\cos(\\theta)$')    \n",
    "ax.plot(x,y2, 'b', label = r'$\\sin(\\theta)$')\n",
    "ax.set_xlabel(r'$\\theta$', fontsize = 16)\n",
    "ax.set_ylabel(r'$f(\\theta)$', fontsize = 20)\n",
    "ax.set_title(r'\\textbf{Two functions in the same plot}')\n",
    "ax.legend()\n",
    "plt.savefig(os.path.join(folder,'FirstPlot.pdf'))  # Saves the graphic in .pdf\n",
    "plt.show()  "
   ]
  },
  {
   "cell_type": "code",
   "execution_count": null,
   "metadata": {},
   "outputs": [],
   "source": [
    "#We can also change the ticks, so the steps which the axis is divided.\n",
    "\n",
    "#This is used with the set_xticks and set_yticks commands.\n",
    "\n",
    "#0. is the first tick, 0.5 is the second, etc.\n",
    "\n",
    "#The labels are the names of the ticks.\n",
    "\n",
    "plt.rcParams['text.usetex'] = True\n",
    "x = 2*np.pi*np.linspace(0,1,100)\n",
    "y1 = np.cos(x)\n",
    "y2 = np.sin(x)\n",
    "fig, ax = plt.subplots()\n",
    "ax.plot(x,y1, 'r', label = r'$\\cos(\\theta)$')\n",
    "ax.plot(x,y2, 'b', label = r'$\\sin(\\theta)$')\n",
    "ax.set_xlabel(r'$\\theta$', fontsize = 16)\n",
    "ax.set_ylabel(r'$f(\\theta)$', fontsize = 20)\n",
    "ax.set_xticks([0., 0.5 * np.pi, np.pi, 1.5 * np.pi, 2 * np.pi],\n",
    "              labels=[\n",
    "                  \"$0$\", r\"$\\frac{\\pi}{2}$\", r\"$\\pi$\", r\"$\\frac{3\\pi}{2}$\",\n",
    "                  r\"$2\\pi$\"\n",
    "              ])\n",
    "ax.set_yticks([-1.0, 0., 1])\n",
    "ax.set_title(r'\\textbf{Two functions in the same plot}')\n",
    "ax.legend()\n",
    "plt.show()"
   ]
  },
  {
   "cell_type": "code",
   "execution_count": null,
   "metadata": {},
   "outputs": [],
   "source": [
    "#Exercise. Let us do a bar plot. This is used with the bar command.\n",
    "\n",
    "#We will do a bar plot for the interest problem. Each bar a different color for each year.\n",
    "\n",
    "#First the interest problem.\n",
    "\n",
    "\n",
    "\n",
    "\n",
    "def final_amount(initial, years):\n",
    "    final = initial*(1+ir/100)**years\n",
    "    return final\n",
    "\n",
    "x=[]\n",
    "y=[]\n",
    "num_colors = 11\n",
    "colors = [plt.cm.Reds(i/num_colors) for i in range(num_colors)]\n",
    "for i in range (11):\n",
    "    x.append(i)\n",
    "    y.append(final_amount(100,i))\n",
    "    \n",
    "\n",
    "plt.bar(x, height=y, width=0.8, bottom=None, color=colors, align='center', data=None)\n",
    "plt.xticks(ticks=x, labels=x)\n",
    "\n",
    "plt.show()\n",
    "    \n"
   ]
  },
  {
   "cell_type": "code",
   "execution_count": null,
   "metadata": {},
   "outputs": [],
   "source": [
    "#You can anotate in each bar with the command annotate.\n",
    "\n",
    "import matplotlib.pyplot as plt\n",
    "\n",
    "plt.rcParams['text.usetex'] = True\n",
    "x = 2*np.pi*np.linspace(0,1,100)\n",
    "y1 = np.cos(x)\n",
    "y2 = np.sin(x)\n",
    "fig, ax = plt.subplots()\n",
    "ax.plot(x,y1, 'r', label = r'$\\cos(\\theta)$')    \n",
    "ax.plot(x,y2, 'b', label = r'$\\sin(\\theta)$')\n",
    "ax.set_xlabel(r'$\\theta$', fontsize = 16)\n",
    "ax.set_ylabel(r'$f(\\theta)$', fontsize = 20)\n",
    "ax.set_xticks([0., 0.5*np.pi, np.pi, 1.5*np.pi, 2*np.pi], \n",
    "              labels = [\"$0$\", r\"$\\frac{\\pi}{2}$\",\n",
    "                       r\"$\\pi$\", r\"$\\frac{3\\pi}{2}$\", r\"$2\\pi$\"])\n",
    "ax.set_yticks([-1.0, 0., 1])\n",
    "ax.set_title(r'\\textbf{Two functions in the same plot}')\n",
    "ax.legend()\n",
    "ax.annotate('Maximum for sine', xy = (1.6,1), xytext = (3,0.95), \n",
    "            arrowprops = dict(facecolor='black', width = 2, headwidth = 5, \n",
    "                              headlength = 5, shrink = 0.05))\n",
    "\n",
    "\n",
    "# Annotate the intersection of sine and cosine\n",
    "intersection_x = 5*np.pi / 4\n",
    "intersection_y = np.sin(intersection_x)\n",
    "ax.annotate('Intersection', xy=(intersection_x, intersection_y), xytext=(intersection_x + 1, intersection_y + 0.5),\n",
    "            arrowprops=dict(facecolor='black', width=2, headwidth=5, headlength=5, shrink=0.05),\n",
    "            bbox=dict(boxstyle=\"round,pad=0.3\", edgecolor=\"black\", facecolor=\"white\"))\n",
    "\n",
    "# Add a circle marker at the intersection\n",
    "ax.plot(intersection_x, intersection_y, 'o', markersize=10, markeredgecolor='black', markerfacecolor='none')\n",
    "\n",
    "plt.show()\n"
   ]
  },
  {
   "cell_type": "code",
   "execution_count": null,
   "metadata": {},
   "outputs": [],
   "source": [
    "#We can have plots inside of plots.\n",
    "\n",
    "fig, ax=plt.subplots()\n",
    "axin1=ax.inset_axes([0.1,0.1,0.3,0.3])\n",
    "#This means the plot will be 30% of the original plot. The first two numbers are the position of the plot.\n",
    "#The last two numbers are the size of the plot.\n",
    "\n",
    "plt.show"
   ]
  },
  {
   "cell_type": "code",
   "execution_count": null,
   "metadata": {},
   "outputs": [],
   "source": [
    "#We can remove the ticks with the command xticks and yticks.\n",
    "\n",
    "fig, ax=plt.subplots()\n",
    "axin1=ax.inset_axes([0.1,0.1,0.3,0.3], xticks=[], yticks=[])\n",
    "\n",
    "\n",
    "plt.show"
   ]
  },
  {
   "cell_type": "code",
   "execution_count": null,
   "metadata": {},
   "outputs": [],
   "source": [
    "x=2*np.pi*np.linspace(0,1,101)\n",
    "y1=np.sin(x)\n",
    "y2=np.cos(x)\n",
    "fig,ax=plt.subplots()\n",
    "ax.plot(x,y1, label=r'$\\sin(x)$')\n",
    "axin1=ax.inset_axes([0.65,0.65,0.3,0.3])\n",
    "axin1.plot(x,y2, label=r'$\\cos(x)$', color='red')\n",
    "axin1.set_xticks([0,np.pi,2*np.pi], labels=['0',r'$\\pi$',r'$2\\pi$'])\n",
    "axin1.set_yticks([-1,0,1])\n",
    "plt.show()"
   ]
  },
  {
   "cell_type": "code",
   "execution_count": null,
   "metadata": {},
   "outputs": [],
   "source": [
    "#We can also zoom in a part of the graph. This is done with the zoomed_inset_axes command.\n",
    "\n",
    "fig, ax = plt.subplots()\n",
    "ax.plot(x, y1, label=r'$\\sin(x)$')\n",
    "axins=ax.inset_axes([0.1,0.1,0.3,0.3])\n",
    "x_zoom = 2*np.pi*np.linspace(0.2,0.3,100)\n",
    "y_zoom = np.sin(x_zoom)\n",
    "axins.plot(x_zoom,y_zoom, label=r'$\\sin(x)$ zoom', color='red')\n",
    "\n",
    "ax.indicate_inset_zoom(axins)\n",
    "plt.show()\n"
   ]
  },
  {
   "cell_type": "markdown",
   "metadata": {},
   "source": [
    "### Error bars\n",
    "\n",
    "You can use the command .errorbar(x,y, xerr=?, yerr= ?, ecolor='r', elinewidth=?, linestyle=?)"
   ]
  },
  {
   "cell_type": "code",
   "execution_count": null,
   "metadata": {},
   "outputs": [],
   "source": [
    "import matplotlib.pyplot as plt\n",
    "\n",
    "plt.rcParams['text.usetex'] = True\n",
    "x = 2*np.pi*np.linspace(0,1,10)\n",
    "y = np.sin(x)\n",
    "x_err = 0.1*np.random.rand(10)\n",
    "y_err = 0.2*np.random.rand(10)\n",
    "fig, ax = plt.subplots()\n",
    "\n",
    "#These parameters, xerr and yerr are the error bars.\n",
    "#The command is .errorbar\n",
    "\n",
    "ax.errorbar(x, y, xerr = x_err, yerr = y_err, fmt='o', ecolor= 'r', elinewidth = 0.5, \n",
    "            barsabove=True, linestyle = 'dotted')\n",
    "ax.set_xlabel(r'$\\theta$', fontsize = 16)\n",
    "ax.set_ylabel(r'$f(\\theta)$', fontsize = 16)\n",
    "ax.set_xticks([0., 0.5*np.pi, np.pi, 1.5*np.pi, 2*np.pi], labels = [\"$0$\", r\"$\\frac{1}{2}\\pi$\",\n",
    "                       r\"$\\pi$\", r\"$\\frac{3}{2}\\pi$\", r\"$2\\pi$\"])\n",
    "ax.set_yticks([-1.0, 0., 1])\n",
    "plt.show()"
   ]
  },
  {
   "cell_type": "markdown",
   "metadata": {},
   "source": [
    "If the errors are not symmetric we can use\n",
    "\n"
   ]
  },
  {
   "cell_type": "code",
   "execution_count": null,
   "metadata": {},
   "outputs": [],
   "source": [
    "plt.rcParams['text.usetex'] = True\n",
    "x = 2*np.pi*np.linspace(0,1,10)\n",
    "y = np.sin(x)\n",
    "x_err = 0.1*np.random.rand(10)\n",
    "y_min = 0.2*np.random.rand(10)\n",
    "y_max = 0.2*np.random.rand(10)\n",
    "y_err = [y_min, y_max]\n",
    "fig, ax = plt.subplots()\n",
    "ax.errorbar(x, y, xerr = x_err, yerr = y_err, marker='o', ecolor = 'r', \n",
    "            elinewidth = 1, barsabove=True)\n",
    "ax.set_xlabel(r'$\\theta$', fontsize = 16)\n",
    "ax.set_ylabel(r'$f(\\theta)$', fontsize = 16)\n",
    "ax.set_xticks([0., 0.5*np.pi, np.pi, 1.5*np.pi, 2*np.pi], labels = [\"$0$\", r\"$\\frac{1}{2}\\pi$\",\n",
    "                       r\"$\\pi$\", r\"$\\frac{3}{2}\\pi$\", r\"$2\\pi$\"])\n",
    "ax.set_yticks([-1.0, 0., 1])\n",
    "plt.show()"
   ]
  },
  {
   "cell_type": "markdown",
   "metadata": {},
   "source": [
    "#### Homework\n",
    "\n",
    "Consider the following question.\n",
    "\n",
    "Consider the following two functions<br>\n",
    "$$\n",
    "\\begin{equation}\n",
    "\\begin{split}\n",
    "\\mathrm{sinc}(x)&=\\frac{\\sin(x)}{x}\\\\\n",
    "\\mathrm{sinc}(\\pi\\,x)&=\\frac{\\sin(\\pi x)}{\\pi x}\n",
    "\\end{split}\n",
    "\\end{equation}\n",
    "$$\n",
    "\n",
    "1. Create a graph for $\\mathrm{sinc}(x)$ for $-6\\leq x\\leq 6$ and in an inset a graph for $\\mathrm{sinc}(\\pi x)$ for the same values ​​of x.\n",
    "2. Annotate both graphs with arrows indicating the first minima of both functions.\n",
    "3. Now plot both functions on the same graph and use an inset to zoom in on the region where these two curves overlap.\n",
    "4. In each case above, it includes error bars taken randomly from a normal distribution with mean 0 and standard deviation 2."
   ]
  },
  {
   "cell_type": "code",
   "execution_count": null,
   "metadata": {},
   "outputs": [
    {
     "data": {
      "image/png": "[encoded data removed]",
      "text/plain": [
       "<Figure size 640x480 with 1 Axes>"
      ]
     },
     "metadata": {},
     "output_type": "display_data"
    }
   ],
   "source": [
    "import matplotlib.pyplot as plt\n",
    "\n",
    "x=np.linspace(-6,6,601)\n",
    "\n",
    "y1=np.sin(x)\n",
    "y2=np.sinc(x)\n",
    "\n",
    "fig, ax = plt.subplots()\n",
    "ax.plot(x,y1, 'b', label = r'$\\sin(\\theta)$')\n",
    "\n",
    "axin1=ax.inset_axes([0.65,0.65,0.3,0.3])\n",
    "axin1.plot(x,y2, label=r'$sinc(x)$', color='red')\n",
    "axin1.set_xticks([-2 * np.pi,-1.5 * np.pi,-np.pi,-0.5 * np.pi,0., 0.5 * np.pi, np.pi, 1.5 * np.pi, 2 * np.pi],\n",
    "              labels=[r'$-2\\pi$', r'$-\\frac{3\\pi}{2}$', r'$-\\pi$', r'$-\\frac{\\pi}{2}$', \"$0$\", r'$\\frac{\\pi}{2}$', r'$\\pi$', r'$\\frac{3\\pi}{2}$', r'$2\\pi$'])\n",
    "axin1.set_yticks([-1,0,1])\n",
    "\n",
    "ax.set_xlabel(r'$\\theta$', fontsize = 16)\n",
    "ax.set_ylabel(r'$f(\\theta)$', fontsize = 20)\n",
    "ax.set_xticks([-2 * np.pi,-1.5 * np.pi,-np.pi,-0.5 * np.pi,0., 0.5 * np.pi, np.pi, 1.5 * np.pi, 2 * np.pi],\n",
    "              labels=[r'$-2\\pi$', r'$-\\frac{3\\pi}{2}$', r'$-\\pi$', r'$-\\frac{\\pi}{2}$', \"$0$\", r'$\\frac{\\pi}{2}$', r'$\\pi$', r'$\\frac{3\\pi}{2}$', r'$2\\pi$'])\n",
    "ax.set_yticks([-1.0, 0., 1])\n",
    "ax.set_title(r'\\textbf{Two functions in the same plot}')\n",
    "\n",
    "ax.annotate('Minimum for sine', xy = (3/2*np.pi,-1), xytext = (0,-0.95), \n",
    "            arrowprops = dict(facecolor='black', width = 2, headwidth = 5, \n",
    "                              headlength = 5, shrink = 0.05))\n",
    "axin1.annotate('Minimum for sinc', xy = (1.433,np.sinc(1.433)), xytext = (3,0.7),fontsize=8, \n",
    "            arrowprops = dict(facecolor='black', width = 0.5, headwidth = 3, \n",
    "                              headlength = 5, shrink = 0.05))\n",
    "\n",
    "\n",
    "plt.show()"
   ]
  },
  {
   "cell_type": "code",
   "execution_count": 134,
   "metadata": {},
   "outputs": [
    {
     "data": {
      "image/png": "[encoded data removed]",
      "text/plain": [
       "<Figure size 640x480 with 1 Axes>"
      ]
     },
     "metadata": {},
     "output_type": "display_data"
    }
   ],
   "source": [
    "import matplotlib.pyplot as plt\n",
    "\n",
    "x=np.linspace(-6,6,601)\n",
    "\n",
    "y1=np.sin(x)\n",
    "y2=np.sinc(x)\n",
    "\n",
    "fig, ax = plt.subplots()\n",
    "ax.plot(x,y1, 'b', label = r'$\\sin(\\theta)$')\n",
    "\n",
    "\n",
    "ax.plot(x,y2, label=r'$sinc(x)$', color='red')\n",
    "\n",
    "\n",
    "ax.set_xlabel(r'$\\theta$', fontsize = 16)\n",
    "ax.set_ylabel(r'$f(\\theta)$', fontsize = 20)\n",
    "ax.set_xticks([-2 * np.pi,-1.5 * np.pi,-np.pi,-0.5 * np.pi,0., 0.5 * np.pi, np.pi, 1.5 * np.pi, 2 * np.pi],\n",
    "              labels=[r'$-2\\pi$', r'$-\\frac{3\\pi}{2}$', r'$-\\pi$', r'$-\\frac{\\pi}{2}$', \"$0$\", r'$\\frac{\\pi}{2}$', r'$\\pi$', r'$\\frac{3\\pi}{2}$', r'$2\\pi$'])\n",
    "ax.set_yticks([-1.0, 0., 1])\n",
    "ax.set_title(r'\\textbf{Two functions in the same plot}')\n",
    "\n",
    "ax.annotate('Minimum for sine', xy = (3/2*np.pi,-1), xytext = (0,-0.95), \n",
    "            arrowprops = dict(facecolor='black', width = 2, headwidth = 5, \n",
    "                              headlength = 5, shrink = 0.05))\n",
    "ax.annotate('Minimum for sinc', xy = (1.433,np.sinc(1.433)), xytext = (3,0.7),fontsize=8, \n",
    "            arrowprops = dict(facecolor='black', width = 0.5, headwidth = 3, \n",
    "                              headlength = 5, shrink = 0.05))\n",
    "\n",
    "\n",
    "plt.show()"
   ]
  }
 ],
 "metadata": {
  "kernelspec": {
   "display_name": "base",
   "language": "python",
   "name": "python3"
  },
  "language_info": {
   "codemirror_mode": {
    "name": "ipython",
    "version": 3
   },
   "file_extension": ".py",
   "mimetype": "text/x-python",
   "name": "python",
   "nbconvert_exporter": "python",
   "pygments_lexer": "ipython3",
   "version": "3.12.8"
  }
 },
 "nbformat": 4,
 "nbformat_minor": 2
}

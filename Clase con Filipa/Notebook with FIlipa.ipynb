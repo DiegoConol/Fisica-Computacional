{
 "cells": [
  {
   "cell_type": "code",
   "execution_count": null,
   "metadata": {},
   "outputs": [],
   "source": [
    "print(\"Hello world\")"
   ]
  },
  {
   "cell_type": "code",
   "execution_count": null,
   "metadata": {},
   "outputs": [],
   "source": [
    "# You can add comments with the # command.\n",
    "# If you need bigger comments you can use \"\"\".\n",
    "\n",
    "\"\"\"\n",
    "Hello\n",
    "\"\"\""
   ]
  },
  {
   "cell_type": "code",
   "execution_count": null,
   "metadata": {},
   "outputs": [],
   "source": [
    "\n",
    "message = \"Hello world!\"\n",
    "print(message)"
   ]
  },
  {
   "cell_type": "code",
   "execution_count": null,
   "metadata": {},
   "outputs": [],
   "source": [
    "# Let us do a quick calculation.\n",
    "\n",
    "initial = 100\n",
    "ir = 5\n",
    "years = 7\n",
    "final = initial*(1+ir/100)**years\n",
    "print(final)"
   ]
  },
  {
   "cell_type": "code",
   "execution_count": null,
   "metadata": {},
   "outputs": [],
   "source": [
    "#If you click 'b' you can add a new cell below the current one.\n",
    "#If you click 'm' you can change the cell to a markdown cell.\n",
    "#If you click 'y' you can change the cell to a code cell.\n",
    "#If you click 'd' twice you can delete the cell.\n"
   ]
  },
  {
   "cell_type": "code",
   "execution_count": null,
   "metadata": {},
   "outputs": [],
   "source": [
    "#Now we can check the boolean values.\n",
    "\n",
    "initial == 100\n",
    "#This tells us whether initial does have a value of 100.\n",
    "#Now let us work with this a little bit. Let us change a the value of initial.\n",
    "\n",
    "print (initial)\n",
    "initial = 200\n",
    "print (initial)\n",
    "\n",
    "#With '=' you can assign a value and with '==' you can check whether the value is true or false."
   ]
  },
  {
   "cell_type": "code",
   "execution_count": null,
   "metadata": {},
   "outputs": [],
   "source": [
    "#Every file has its own type. You can check the type with the type command.\n",
    "\n",
    "name = \"My name is Diego\"\n",
    "a=2\n",
    "b=2.\n",
    "\n",
    "#Once we place a . after the number it becomes a float.\n",
    "\n",
    "c=\"2\"\n",
    "d=True\n",
    "print(type(name))\n",
    "print(type(a))\n",
    "print(type(b))\n",
    "print(type(c))\n",
    "print(type(d))"
   ]
  },
  {
   "cell_type": "code",
   "execution_count": null,
   "metadata": {},
   "outputs": [],
   "source": [
    "#Now lets see the difference in machine language. Working with floats is difficult.\n",
    "\n",
    "v1 = 1/51*51\n",
    "v2=1/49*49\n",
    "\n",
    "#We know they must be one, but are they?\n",
    "\n",
    "print(v1)\n",
    "print(v2)\n",
    "\n",
    "#They are not the same. This is because the computer has a limited amount of memory to store the numbers.\n",
    "#This is why we have to be careful when working with floats.\n",
    "\n",
    "#We can also check whether they are truly one.\n",
    "print(v1==1)\n",
    "print(v2==1)"
   ]
  },
  {
   "cell_type": "code",
   "execution_count": null,
   "metadata": {},
   "outputs": [],
   "source": [
    "#We can set a precision. We can do this with the round command.\n",
    "print(round(v1)==1)"
   ]
  },
  {
   "cell_type": "code",
   "execution_count": null,
   "metadata": {},
   "outputs": [],
   "source": [
    "#We can print very nice with the print \"f\"\n",
    "\n",
    "pi = 3.1415926535\n",
    "print(f\"({pi:.4f}, {pi:.4})\")\n",
    "\n",
    "#This will print the first four digits of pi.\n",
    "#The 'f' in .4f is 4 decimals after the coma. If you do not add it is 4 digits in total."
   ]
  },
  {
   "cell_type": "code",
   "execution_count": null,
   "metadata": {},
   "outputs": [],
   "source": [
    "#Let us resume the calculation of interest.\n",
    "\n",
    "print(f\"After {years} years, an initial deposit of {initial} with an interest rate of {ir}% will be {final:.2f}\")\n",
    "\n",
    "#WARNING\n",
    "\n",
    "#You need to run the cells in order. Remember we changed the 'initial' variable. However we did NOT change the value of final.\n",
    "#So either redo the calculation of use new variables."
   ]
  },
  {
   "cell_type": "code",
   "execution_count": null,
   "metadata": {},
   "outputs": [],
   "source": [
    "#What if we want to use scientific notation?\n",
    "\n",
    "large = 10000000000\n",
    "print(large)\n",
    "print(f\"A lot :{large:g}.\")"
   ]
  },
  {
   "cell_type": "markdown",
   "metadata": {},
   "source": [
    "# LOOPS\n",
    "\n",
    "\n"
   ]
  },
  {
   "cell_type": "markdown",
   "metadata": {},
   "source": [
    "for element in list:\n",
    "<statement1>\n",
    "<statement2>\n",
    "..."
   ]
  },
  {
   "cell_type": "code",
   "execution_count": null,
   "metadata": {},
   "outputs": [],
   "source": [
    "#Be very much careful with indentation. Python is very strict with this.\n",
    "#Because we do not have brackets, we use indentation.\n",
    "\n",
    "for i in [0,1,2,3]:\n",
    "    print (\"Hello im\", i)"
   ]
  },
  {
   "cell_type": "code",
   "execution_count": null,
   "metadata": {},
   "outputs": [],
   "source": [
    "#We can use the range command to make this easier.\n",
    "for i in range(11):\n",
    "    final = initial*(1+ir/100)**i\n",
    "    print(f\"After {i} years, we would have {final:.2f}€ in the bank.\")\n",
    "    "
   ]
  },
  {
   "cell_type": "markdown",
   "metadata": {},
   "source": [
    "There are several things to be understood.\n",
    "1. The 'i' is our iterator variable\n",
    "2. This variable must have an initial value (here 0) and final value (here 10)\n",
    "3. The command 'range(N)' creates a list of integers from 0 to N-1. \n",
    "4. You can increase the step with the command 'range(a,b+1,s)' where you are starting on 'a', ending exactly on 'b' and with step 's'.\n",
    "5. You need indentation."
   ]
  },
  {
   "cell_type": "code",
   "execution_count": null,
   "metadata": {},
   "outputs": [],
   "source": [
    "#We can put loops inside loops\n",
    "for m in range(3):\n",
    "    for k in range(7):\n",
    "        print(f\"La multiplicación de {m} por {k} es {m*k}\")"
   ]
  },
  {
   "cell_type": "markdown",
   "metadata": {},
   "source": [
    "\n",
    "Let us do a little exercise\n",
    "\n",
    "Write a loop that calculates the sum of all integers from 1 to N ad print out the final result."
   ]
  },
  {
   "cell_type": "code",
   "execution_count": null,
   "metadata": {},
   "outputs": [],
   "source": [
    "N = 100\n",
    "result=0\n",
    "for i in range(1,N+1,1):\n",
    "    result=result+i\n",
    "print(f\"The final result is {result}\")"
   ]
  },
  {
   "cell_type": "markdown",
   "metadata": {},
   "source": [
    "Now let us doo WHILE LOOPS\n"
   ]
  },
  {
   "cell_type": "code",
   "execution_count": null,
   "metadata": {},
   "outputs": [],
   "source": [
    "#Let us do a while loop\n",
    "i=0\n",
    "initial=100\n",
    "ir=5\n",
    "while i<11: #the Boolean condition controlling the loop\n",
    "    final=initial*(1+ir/100)**i\n",
    "    print(f\"After {i} years, we would have {final:.2f}€ in the bank.\")\n",
    "    i+=1  #This is the increment of the loop."
   ]
  },
  {
   "cell_type": "code",
   "execution_count": null,
   "metadata": {},
   "outputs": [],
   "source": [
    "#Let us redo the exercise with the while loop.\n",
    "i=0\n",
    "result=0\n",
    "N=100\n",
    "while i<N+1:\n",
    "    result=result+i\n",
    "    i+=1\n",
    "print(f\"The final result is {result}\")"
   ]
  },
  {
   "cell_type": "markdown",
   "metadata": {},
   "source": [
    "Boolean Logic:\n",
    "\n",
    "- AND : only true when they are both true\n",
    "- OR: true when one of them is true\n",
    "- NOT: ...."
   ]
  },
  {
   "cell_type": "markdown",
   "metadata": {},
   "source": [
    "# Functions"
   ]
  },
  {
   "cell_type": "code",
   "execution_count": null,
   "metadata": {},
   "outputs": [],
   "source": [
    "#What if we do not want to copy and paste everytime. We can use functions.\n",
    "\n",
    "#For that we use the 'def' command.\n",
    "\n",
    "\"\"\"\n",
    "def function_name(argument1, argument2):\n",
    "    local_variable = argument1 + argument2\n",
    "    return local_variable\n",
    "    \n",
    "\"\"\""
   ]
  },
  {
   "cell_type": "code",
   "execution_count": null,
   "metadata": {},
   "outputs": [],
   "source": [
    "#Let us do the interest function\n",
    "\n",
    "def final_amount(initial, years):\n",
    "    final = initial*(1+ir/100)**years\n",
    "    return final\n",
    "\n",
    "#When you run this function in jupyter, you will not see anything. You need to call the function."
   ]
  },
  {
   "cell_type": "code",
   "execution_count": null,
   "metadata": {},
   "outputs": [],
   "source": [
    "#However after you call, you will see the result.\n",
    "\n",
    "final_amount(100,7)"
   ]
  },
  {
   "cell_type": "code",
   "execution_count": null,
   "metadata": {},
   "outputs": [],
   "source": [
    "#Another thing to take into account is DOCUMENTING YOUR FUNCTION.\n",
    "#How do we do this?\n",
    "\n",
    "#We need to use the \"\"\" command.\n",
    "\n",
    "def final_amount(initial, years):\n",
    "    \"\"\"\n",
    "\n",
    "    Args:\n",
    "        initial (float): The initial value of the deposit.\n",
    "        years (integer): The amount of years it will be deposited.\n",
    "    \n",
    "    Returns:\n",
    "    \n",
    "        final: The final amount of the deposit after the years.\n",
    "    \n",
    "    \"\"\"\n",
    "    final = initial*(1+ir/100)**years\n",
    "    return final\n",
    "    "
   ]
  },
  {
   "cell_type": "code",
   "execution_count": null,
   "metadata": {},
   "outputs": [],
   "source": [
    "#Let us do the same function as before\n",
    "\n",
    "def suma(N):\n",
    "    \"\"\"\n",
    "    Args:\n",
    "        N (integer): The number until which we want to sum.\n",
    "    \n",
    "    Returns:\n",
    "    \n",
    "        result: The final result of the sum.\n",
    "    \n",
    "    \"\"\"\n",
    "    result=0\n",
    "    for i in range(1,N+1,1):\n",
    "        result=result+i\n",
    "    return result"
   ]
  },
  {
   "cell_type": "code",
   "execution_count": null,
   "metadata": {},
   "outputs": [],
   "source": [
    "#Remember, variables INSIDE a function python does not know what they are. They are local variables.\n",
    "#If you want to use them outside the function, you need to return them.\n",
    "\n",
    "\n",
    "#You can change the order of the function if it needs multiple parameters ONLY IF YOU REMEMBER THE VARIABLE NAME."
   ]
  },
  {
   "cell_type": "code",
   "execution_count": null,
   "metadata": {},
   "outputs": [],
   "source": [
    "#Let us do a little exercise. \n",
    "#Define a function that returns the area and the perimeter of a given circle's radius.\n",
    "from math import pi\n",
    "print (pi)\n",
    "\n",
    "def perimetro_area(r):\n",
    "    \"\"\"\n",
    "    Args:\n",
    "        r (float): The radius of the circle.\n",
    "    \n",
    "    Returns:\n",
    "    \n",
    "        perimetro: The perimeter of the circle.\n",
    "        area: The area of the circle.\n",
    "    \n",
    "    \"\"\"\n",
    "    perimetro = 2*pi*r\n",
    "    area = pi*r**2\n",
    "    return perimetro, area"
   ]
  },
  {
   "cell_type": "code",
   "execution_count": null,
   "metadata": {},
   "outputs": [],
   "source": [
    "#Let us check whether the perimeter and area are correct.\n",
    "#Remember the ORDER it exports the variables.\n",
    "\n",
    "perimetro, area = perimetro_area(5)\n",
    "\n",
    "print(f\"The perimeter of the circle is {perimetro:.2f} and the area is {area:.2f}\")"
   ]
  },
  {
   "cell_type": "code",
   "execution_count": null,
   "metadata": {},
   "outputs": [],
   "source": [
    "#Functions dont need to have a return value. They can be void functions.\n",
    "\n",
    "def silly(input):\n",
    "    print(input)\n",
    "\n",
    "silly(\"hello\")"
   ]
  },
  {
   "cell_type": "markdown",
   "metadata": {},
   "source": [
    "# If statements\n",
    "\n",
    "\n",
    "if condition:\n",
    "\n",
    "    < code that executes if the condition is true>\n",
    "\n",
    "elif (in order and you can concatenate conditions)\n",
    "\n",
    "else (you dont need else)\n",
    "    \n",
    "    < code outside the if statement>"
   ]
  },
  {
   "cell_type": "code",
   "execution_count": null,
   "metadata": {},
   "outputs": [],
   "source": [
    "#Let us do a change to the bank function.\n",
    "#We will change whether the interest rate is 5, 6 or 8 depending on the initial deposit.\n",
    "#We will be using if, elif and else\n",
    "\n",
    "def final_amount(initial, years):\n",
    "    \n",
    "    if initial <= 1000:\n",
    "        ir = 5\n",
    "    elif initial <= 10000:\n",
    "        ir = 6\n",
    "    else:\n",
    "        ir = 8\n",
    "    \n",
    "    final_amount=initial*(1+ir/100)**years\n",
    "    \n",
    "    #I've added the ir to the return so we can check the interest rate.\n",
    "    \n",
    "    return final_amount, ir\n"
   ]
  },
  {
   "cell_type": "code",
   "execution_count": null,
   "metadata": {},
   "outputs": [],
   "source": [
    "print(final_amount(999,7))\n",
    "print(final_amount(1000,7))\n",
    "print(final_amount(1001,7))\n",
    "print(\"--------\")\n",
    "print(final_amount(9999,7))\n",
    "print(final_amount(10000,7))\n",
    "print(final_amount(10001,7))"
   ]
  },
  {
   "cell_type": "markdown",
   "metadata": {},
   "source": [
    "# Lists\n",
    "\n",
    "We will be using [element0, element1,...,elementfinal]\n",
    "\n",
    "Python indexes start at 0"
   ]
  },
  {
   "cell_type": "code",
   "execution_count": null,
   "metadata": {},
   "outputs": [],
   "source": [
    "list1=[1,2,3,4,5,6,7,8,9,10]\n",
    "list2=[pi,'hello',4]\n",
    "print(list1)\n",
    "print(list2)\n",
    "\n"
   ]
  },
  {
   "cell_type": "code",
   "execution_count": null,
   "metadata": {},
   "outputs": [],
   "source": [
    "#you can create an empty list and then you can start filling it.\n",
    "\n",
    "empty =[]\n",
    "len(empty)"
   ]
  },
  {
   "cell_type": "code",
   "execution_count": null,
   "metadata": {},
   "outputs": [],
   "source": [
    "#If we want to add a single element to the end\n",
    "my_first_list1=[1,2,3,4,5,6,7,8,9,10]\n",
    "\n",
    "my_first_list1.append(11)\n",
    "print(my_first_list1)\n",
    "\n",
    "#If we want to add more than one element at the end\n",
    "\n",
    "my_first_list1= my_first_list1 + [12,13]\n",
    "print(my_first_list1)\n",
    "\n",
    "#To delete a specific element of the list\n",
    "del(my_first_list1[0])\n",
    "print(my_first_list1)"
   ]
  },
  {
   "cell_type": "code",
   "execution_count": null,
   "metadata": {},
   "outputs": [],
   "source": [
    "#Let us do the bank but now all the data has to be stored.\n",
    "\n",
    "\n",
    "def final_list(initial, years):\n",
    "    \n",
    "    list=[]\n",
    "    ir=5\n",
    "    \n",
    "    for i in range(years+1):\n",
    "        final_amount=initial*(1+ir/100)**i\n",
    "        list.append(final_amount)\n",
    "    \n",
    "    return final_amount, list\n",
    "    \n",
    "print(final_list(100,3))"
   ]
  },
  {
   "cell_type": "code",
   "execution_count": null,
   "metadata": {},
   "outputs": [],
   "source": [
    "#Be careful with this. Graphical example is better.\n",
    "L1=[1,2,3]\n",
    "L2=L1\n",
    "\n",
    "#THIS MAKES PYTHON REMEMBER THE LIST, even if you change L1 in another code, see below."
   ]
  },
  {
   "cell_type": "code",
   "execution_count": null,
   "metadata": {},
   "outputs": [],
   "source": [
    "L1[-1]=\"!\"\n",
    "\n",
    "#we changed L1, but L2 also changed.\n",
    "print(L2)"
   ]
  },
  {
   "cell_type": "code",
   "execution_count": null,
   "metadata": {},
   "outputs": [],
   "source": [
    "#To avoid this we can copy the list. We can do this with the copy command. \n",
    "L1=[1,2,3]\n",
    "L3 = L1.copy()\n",
    "L1[-1]=\"!\"\n",
    "print(L3)"
   ]
  },
  {
   "cell_type": "code",
   "execution_count": null,
   "metadata": {},
   "outputs": [],
   "source": [
    "#We can also do lists of lists.\n",
    "nest=[L1,L2,L3]\n",
    "print(nest)\n",
    "\n",
    "#This is like a matrix, we first choose the element 0 of nest and of that list, element 1.\n",
    "nest[0][1]\n"
   ]
  },
  {
   "cell_type": "code",
   "execution_count": null,
   "metadata": {},
   "outputs": [],
   "source": [
    "#We can also do list slicing. This is very useful.\n",
    "print(my_first_list1)\n",
    "\n",
    "#The : is in steps of 2. It is the same syntax as in the range command.\n",
    "#The len() command is to know the length of the list.\n",
    "\n",
    "print(my_first_list1[0:len(L2):2])"
   ]
  },
  {
   "cell_type": "markdown",
   "metadata": {},
   "source": [
    "# -------------------- NUMPY INTRODUCTION --------------------------"
   ]
  },
  {
   "cell_type": "markdown",
   "metadata": {},
   "source": [
    "Numpy is compatible with numba, a program that optimises your python program.\n",
    "\n",
    "Numpy is extremely used, so every problem you have you can find it on google."
   ]
  },
  {
   "cell_type": "markdown",
   "metadata": {},
   "source": [
    "##### Whenever you want to use a library, you need to IMPORT it\n",
    "\n",
    "It is recommended that you import at the start.\n",
    "\n",
    "Whenever you need to call a library, you can use 'as' command, because if not you would need to write numpy. everytime\n",
    "\n",
    "It should look like 'import numpy as np'\n",
    "\n",
    "It is a bad idea to use 'from numpy import *'. This imports every function of numpy and you dont need to use numpy. everytime. However this is a bad idea because now you dont know which library are you using, if using more than one library it can overlap, etc..\n"
   ]
  },
  {
   "cell_type": "markdown",
   "metadata": {},
   "source": []
  },
  {
   "cell_type": "code",
   "execution_count": null,
   "metadata": {},
   "outputs": [],
   "source": [
    "#An example of importing things\n",
    "import os\n",
    "import scipy\n",
    "import numpy as np\n",
    "import matplotlib as plt\n"
   ]
  },
  {
   "cell_type": "code",
   "execution_count": null,
   "metadata": {},
   "outputs": [],
   "source": [
    "#An example of using numpy\n",
    "root = np.sqrt(2)\n",
    "print(root)"
   ]
  },
  {
   "cell_type": "markdown",
   "metadata": {},
   "source": [
    "We use numpy primary to use vectors and matrices.\n",
    "\n",
    "We can create a vector with the np.array command.\n",
    "\n"
   ]
  },
  {
   "cell_type": "code",
   "execution_count": null,
   "metadata": {},
   "outputs": [],
   "source": [
    "vec=np.array([1,2,3]) #A vector with 3 elements\n",
    "A=np.array([[1,2,3],[4,5,6],[7,8,9]]) #A 3x3 matrix\n",
    "B=np.array([[[1,2],[3,4]],[[5,6],[7,8]],[[9,10],[11,12]]]) #A 3x2x2 tensor\t"
   ]
  },
  {
   "cell_type": "code",
   "execution_count": null,
   "metadata": {},
   "outputs": [],
   "source": [
    "#Now lets see them\n",
    "print('vec as a vector:',vec)\n",
    "print('A as a matrix:',A)  \n",
    "print('B as a tensor:',B)"
   ]
  },
  {
   "cell_type": "code",
   "execution_count": null,
   "metadata": {},
   "outputs": [],
   "source": [
    "#You should know the shape of the array, even though sometimes it can be confusing.\n",
    "#We can check the shape of the array with the shape command.\n",
    "\n",
    "print(vec.shape)\n",
    "print(A.shape)\n",
    "print(B.shape)"
   ]
  },
  {
   "cell_type": "code",
   "execution_count": null,
   "metadata": {},
   "outputs": [],
   "source": [
    "#You can also use the .size command, giving you the total number of elements in the array.\n",
    "print(vec.size)\n",
    "print(A.size)\n",
    "print(B.size)\n",
    "#You can also use np.shape and np.size"
   ]
  },
  {
   "cell_type": "markdown",
   "metadata": {},
   "source": [
    "#### What is the advantage of using an np.array?\n",
    "\n",
    "The numbers inside must be of the same type so this eliminates some problems.\n",
    "\n",
    "They are much more efficiently made.\n"
   ]
  },
  {
   "cell_type": "code",
   "execution_count": null,
   "metadata": {},
   "outputs": [],
   "source": [
    "#If we do the comand .dtype we can see the type of the array.\n",
    "\n",
    "print(vec.dtype)\n",
    "print(A.dtype)\n",
    "print(B.dtype)\n"
   ]
  },
  {
   "cell_type": "code",
   "execution_count": null,
   "metadata": {},
   "outputs": [],
   "source": [
    "#If we dont put anything it will assume it is an integer.\n",
    "#But what if we want to specify the type of the array?\n",
    "\n",
    "M1=np.array([[1,2],[3,4]], dtype=int)\n",
    "M2=np.array([[1,2],[3,4]], dtype=complex)\n",
    "\n",
    "print(M1.dtype)\n",
    "print(M2.dtype)"
   ]
  },
  {
   "cell_type": "code",
   "execution_count": null,
   "metadata": {},
   "outputs": [],
   "source": [
    "#We can also create RANGE arrays with arange command.\n",
    "\n",
    "v=np.arange(0,10,1)\n",
    "print(v)\n",
    "\n",
    "v=np.arange(-1,1,0.1)\n",
    "print(v)\n",
    "\n",
    "#Remember 2 things: The last element is not included and the step is not included.\n",
    "#And the precision problems with floats. 0 is not -2.220446049250313e-16."
   ]
  },
  {
   "cell_type": "code",
   "execution_count": null,
   "metadata": {},
   "outputs": [],
   "source": [
    "#If you use .linspace(a,b,c) you can create an array with c elements between a and b WITH 'b' INCLUDED.\n",
    "v=np.linspace(0,10,11)\n",
    "print(v)\n",
    "\n",
    "v=np.linspace(-1,1,21)\n",
    "print(v)"
   ]
  },
  {
   "cell_type": "code",
   "execution_count": null,
   "metadata": {},
   "outputs": [],
   "source": [
    "#We can also create arrays of zeros and ones.\n",
    "\n",
    "Z1=np.zeros(2, dtype=int)\n",
    "Z2=np.zeros((3,3), dtype=float)\n",
    "O1=np.ones(2, dtype=int)\n",
    "O2=np.ones((3,3), dtype=float)\n"
   ]
  },
  {
   "cell_type": "code",
   "execution_count": null,
   "metadata": {},
   "outputs": [],
   "source": [
    "#We can also use random numbers. We can use the random command.\n",
    "\n",
    "Identity=np.eye(3) #This creates a 3x3 identity matrix\n",
    "Diagonal=np.diag([1,2,3,4,5,6,7,8,9,10]) #This creates a matrix with the input list in the diagonal\n",
    "Random=np.random.rand(3,3) #Creates a 3x3 matrix with random numbers between 0 and 1\n",
    "\n",
    "print(Identity)\n",
    "print(Diagonal)\n",
    "print(Random)"
   ]
  },
  {
   "cell_type": "code",
   "execution_count": null,
   "metadata": {},
   "outputs": [],
   "source": [
    "#You can manipulate arrays with numpy. You can add, subtract, multiply, divide, etc.\n",
    "#It is just like lists.\n",
    "\n",
    "v=np.linspace(0,10,11)\n",
    "print(v)\n",
    "print(v[2])\n",
    "print(Random)\n",
    "\n",
    "#This prints the element in the second row and second column.\n",
    "print(Random[1,1])\n",
    "\n",
    "#This prints the second row of the matrix.\n",
    "print(Random[1,:])"
   ]
  },
  {
   "cell_type": "code",
   "execution_count": null,
   "metadata": {},
   "outputs": [],
   "source": [
    "#Exercise:\n",
    "import numpy as np\n",
    "#Use an array and a loop to calculate the values of the sine function from 0 to 2pi in steps of 0.01*2pi\n",
    "\n",
    "x=2*np.pi*np.linspace(0,1,101)\n",
    "seno=[]\n",
    "for n in range(len(x)):\n",
    "    seno.append(np.sin(x[n]))\n",
    "print(seno)\n",
    "\n",
    "\n",
    "#We can also skip the for loop like this. We don't need the for loop if we are putting it in a list. \n",
    "#It already understands that you need to do it for every element of the array.\n",
    "\n",
    "y = 2*np.pi*np.linspace(0,1,101)\n",
    "sine =np.sin(y)\n",
    "print(sine)\n"
   ]
  },
  {
   "cell_type": "markdown",
   "metadata": {},
   "source": [
    "# ------------------- JOEL PROTEUS-----------------\n",
    "\n",
    "To enter Joel\n",
    "\n",
    "ssh cphys-username@joel.ugr.es\n",
    "\n",
    "It will ask you for your password, and even though it appears you are not writing you are indeed writing.\n",
    "\n",
    "\n",
    "You will need to navigate once inside joel.\n",
    "\n",
    "You will need to use google.\n",
    "\n",
    "### The commands are these:\n",
    "\n",
    "- 'ls' tells you the bins you have\n",
    "- 'cd _foldername_' you get inside the bin. If you write '..' you will exit the bin you are. You would want to get inside 'COMPARTIDO'\n",
    "- 'mkdir' creates a folder, it makes a directory.\n",
    "- 'ls -lh' puts it in a nicer way.\n",
    "- 'pwd' tells you the directory you are in. It is pretty useful for the next step.\n",
    "- 'scp' means copy TO server. You will need to put the name of the file or the path, then your name then the directory. \n",
    "    - For example. 'scp [space] _NameOfFile/Path_ [space] _YourName_:/_FolderInJoel_. \n",
    "- 'scp' means to copy FROM server. \n",
    "    - For example. 'scp [space] _YourName_ :/ _PathofArchivo_ [space] _FolderInYourComputer\n",
    "    - scp [space] cphys-diego.contrerasolmos@joel.ugr.es:/home/.../file.ipynb [space] /c/User/diego/Desktop/'Física computacional'/Fisica-Computacional.\n",
    "        - I have 'Física computacional' in between '' because it contains spaces and accents.\n"
   ]
  },
  {
   "cell_type": "markdown",
   "metadata": {},
   "source": [
    "# -------GITHUB AND GIT-------------\n",
    "\n",
    "\n",
    "### We will be seeing how to connect to git and stuff.\n",
    "\n",
    "Filipa's github account \"fcrperes\".\n",
    "\n",
    "We now will be using the terminal this time\n",
    "\n",
    "### Commands:\n",
    "\n",
    "- 'git' ALWAYS used.\n",
    "- 'git clone' makes you clone a certain repository to your computer.\n",
    "    - For example 'git clone _PathFromGithub_'\n",
    "- 'git add' makes you add the file to the path you just select.\n",
    "    - "
   ]
  },
  {
   "cell_type": "markdown",
   "metadata": {},
   "source": [
    "\n"
   ]
  },
  {
   "cell_type": "code",
   "execution_count": null,
   "metadata": {},
   "outputs": [],
   "source": [
    "#We will now use the exponential.\n",
    "\n",
    "M=np.array([[1,2],[3,4]])\n",
    "print(M)\n",
    "M=M**2\n",
    "#This will square every element of the matrix. Not the matrix itself.\n",
    "print(M)\n",
    "\n",
    "#using * for multyplying performs an element wise multiplication.\n",
    "#So if you want to do a matrix multiplication you need to use the dot command. Np.dot\n",
    "\n",
    "M=np.array([[1,2],[3,4]])\n",
    "print(\"This is the correct result\").\n",
    "print(np.dot(M,M))\n",
    "\n",
    "#Another commands are:\n",
    "print(f\"Outer product = {np.outer(M,M)}\")\n",
    "print(f\"Inner product = {np.inner(M,M)}\")\n",
    "print(f\"Trace = {np.trace(M)}\")\n",
    "print(f\"Transpose = {np.transpose(M)}\")\n",
    "print(f\"Determinant = {np.linalg.det(M)}\")\n",
    "print(f\"Inverse = {np.linalg.inv(M)}\")\n"
   ]
  },
  {
   "cell_type": "code",
   "execution_count": null,
   "metadata": {},
   "outputs": [],
   "source": [
    "#Exercise:\n",
    "\n",
    "Z = np.array([[2,3,2,4],[4,1,0,17],[24,0,-1,-3],[4,2,14,2]])\n",
    "print(Z)\n",
    "\n",
    "for i in range(4):\n",
    "    for j in range(4):\n",
    "        \n",
    "        if j==i:\n",
    "            pass\n",
    "        elif j==3 and i==0:  \n",
    "            pass\n",
    "        elif i==3 and j==0:\n",
    "            pass\n",
    "        else:\n",
    "            Z[i,j]=0\n",
    "\n",
    "print(\"Now for H\")\n",
    "print(Z)\n",
    "H=Z\n",
    "\n",
    "#Now write a code that extracts from H the 2x2 matrix that is not 0 nor in the diagonal, so (2,4,4,2). Then take the exponential.\n",
    "\n",
    "for i in range(4):\n",
    "    for j in range(4):\n",
    "        \n",
    "        if j==1 or j==2:\n",
    "            np.delete(H[i,j])\n",
    "        elif i==1 or i==2:\n",
    "            np.delete(H[i,j])\n",
    "print(H)\n",
    "                \n",
    "        "
   ]
  },
  {
   "cell_type": "code",
   "execution_count": null,
   "metadata": {},
   "outputs": [],
   "source": [
    "#We can create a path to a file with the os command.\n",
    "\n",
    "path = \"/Users/diego/Desktop/Física computacional/Fisica-Computacional/Clase con Filipa/\"\n",
    "folder= \"/Data/\"\n",
    "#We can save it to that path.\n",
    "\n",
    "x=np.linspace(0,10,11)\n",
    "y=np.sin(2*np.pi*x)\n",
    "print(y)\n",
    "\n",
    "np.save(os.path.join(path,\"sine\"),x)\n",
    "\n",
    "#This saves the file in the path. \n",
    "\n",
    "#With the command np.savez(\"Direccto to save including file name\", namearray1, namearray2, ...)\n",
    "\n",
    "\n",
    "#IT DOES NOT WORK. I NEED TO FIX IT.\n",
    " #np.savez(folder + \"sine\", x=x, y=y)"
   ]
  },
  {
   "cell_type": "code",
   "execution_count": 148,
   "metadata": {},
   "outputs": [],
   "source": [
    "\n",
    "#We can save through np.save as well.\n",
    "yearly_amount = np.zeros(10)\n",
    "\n",
    "np.save(path + \"Money\", yearly_amount)"
   ]
  },
  {
   "cell_type": "code",
   "execution_count": null,
   "metadata": {},
   "outputs": [],
   "source": [
    "#We can also load this with np.load command.\n",
    "\n",
    "results = np.load(path + \"sine.npy\")\n",
    "\n",
    "#If you have multiple you can do\n",
    "\n",
    "    \"\"\"\n",
    "    data = np.load(folder + \"sine.npz\")\n",
    "    x = data['x']\n",
    "    y = data['y']\n",
    "    \n",
    "    \"\"\""
   ]
  }
 ],
 "metadata": {
  "kernelspec": {
   "display_name": "base",
   "language": "python",
   "name": "python3"
  },
  "language_info": {
   "codemirror_mode": {
    "name": "ipython",
    "version": 3
   },
   "file_extension": ".py",
   "mimetype": "text/x-python",
   "name": "python",
   "nbconvert_exporter": "python",
   "pygments_lexer": "ipython3",
   "version": "3.12.8"
  }
 },
 "nbformat": 4,
 "nbformat_minor": 2
}

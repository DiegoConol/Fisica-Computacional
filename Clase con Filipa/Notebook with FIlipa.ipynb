{
 "cells": [
  {
   "cell_type": "code",
   "execution_count": 1,
   "metadata": {},
   "outputs": [
    {
     "name": "stdout",
     "output_type": "stream",
     "text": [
      "Hello world\n"
     ]
    }
   ],
   "source": [
    "print(\"Hello world\")"
   ]
  },
  {
   "cell_type": "code",
   "execution_count": null,
   "metadata": {},
   "outputs": [],
   "source": [
    "# You can add comments with the # command.\n",
    "# If you need bigger comments you can use \"\"\".\n",
    "\n",
    "\"\"\"\n",
    "Hello\n",
    "\"\"\""
   ]
  },
  {
   "cell_type": "code",
   "execution_count": null,
   "metadata": {},
   "outputs": [],
   "source": [
    "\n",
    "message = \"Hello world!\"\n",
    "print(message)"
   ]
  },
  {
   "cell_type": "code",
   "execution_count": 3,
   "metadata": {},
   "outputs": [
    {
     "name": "stdout",
     "output_type": "stream",
     "text": [
      "140.71004226562505\n"
     ]
    }
   ],
   "source": [
    "# Let us do a quick calculation.\n",
    "\n",
    "initial = 100\n",
    "ir = 5\n",
    "years = 7\n",
    "final = initial*(1+ir/100)**years\n",
    "print(final)"
   ]
  },
  {
   "cell_type": "code",
   "execution_count": null,
   "metadata": {},
   "outputs": [],
   "source": [
    "#If you click 'b' you can add a new cell below the current one.\n",
    "#If you click 'm' you can change the cell to a markdown cell.\n",
    "#If you click 'y' you can change the cell to a code cell.\n",
    "#If you click 'd' twice you can delete the cell.\n"
   ]
  },
  {
   "cell_type": "code",
   "execution_count": null,
   "metadata": {},
   "outputs": [
    {
     "name": "stdout",
     "output_type": "stream",
     "text": [
      "100\n",
      "200\n"
     ]
    }
   ],
   "source": [
    "#Now we can check the boolean values.\n",
    "\n",
    "initial == 100\n",
    "#This tells us whether initial does have a value of 100.\n",
    "#Now let us work with this a little bit. Let us change a the value of initial.\n",
    "\n",
    "print (initial)\n",
    "initial = 200\n",
    "print (initial)\n",
    "\n",
    "#With '=' you can assign a value and with '==' you can check whether the value is true or false."
   ]
  },
  {
   "cell_type": "code",
   "execution_count": null,
   "metadata": {},
   "outputs": [
    {
     "name": "stdout",
     "output_type": "stream",
     "text": [
      "<class 'str'>\n",
      "<class 'int'>\n",
      "<class 'float'>\n",
      "<class 'str'>\n",
      "<class 'bool'>\n"
     ]
    }
   ],
   "source": [
    "#Every file has its own type. You can check the type with the type command.\n",
    "\n",
    "name = \"My name is Diego\"\n",
    "a=2\n",
    "b=2.\n",
    "\n",
    "#Once we place a . after the number it becomes a float.\n",
    "\n",
    "c=\"2\"\n",
    "d=True\n",
    "print(type(name))\n",
    "print(type(a))\n",
    "print(type(b))\n",
    "print(type(c))\n",
    "print(type(d))"
   ]
  },
  {
   "cell_type": "code",
   "execution_count": 9,
   "metadata": {},
   "outputs": [
    {
     "name": "stdout",
     "output_type": "stream",
     "text": [
      "1.0\n",
      "0.9999999999999999\n",
      "True\n",
      "False\n"
     ]
    }
   ],
   "source": [
    "#Now lets see the difference in machine language. Working with floats is difficult.\n",
    "\n",
    "v1 = 1/51*51\n",
    "v2=1/49*49\n",
    "\n",
    "#We know they must be one, but are they?\n",
    "\n",
    "print(v1)\n",
    "print(v2)\n",
    "\n",
    "#They are not the same. This is because the computer has a limited amount of memory to store the numbers.\n",
    "#This is why we have to be careful when working with floats.\n",
    "\n",
    "#We can also check whether they are truly one.\n",
    "print(v1==1)\n",
    "print(v2==1)"
   ]
  },
  {
   "cell_type": "code",
   "execution_count": 14,
   "metadata": {},
   "outputs": [
    {
     "name": "stdout",
     "output_type": "stream",
     "text": [
      "True\n"
     ]
    }
   ],
   "source": [
    "#We can set a precision. We can do this with the round command.\n",
    "print(round(v1)==1)"
   ]
  },
  {
   "cell_type": "code",
   "execution_count": 19,
   "metadata": {},
   "outputs": [
    {
     "name": "stdout",
     "output_type": "stream",
     "text": [
      "(3.1416, 3.142)\n"
     ]
    }
   ],
   "source": [
    "#We can print very nice with the print \"f\"\n",
    "\n",
    "pi = 3.1415926535\n",
    "print(f\"({pi:.4f}, {pi:.4})\")\n",
    "\n",
    "#This will print the first four digits of pi.\n",
    "#The 'f' in .4f is 4 decimals after the coma. If you do not add it is 4 digits in total."
   ]
  },
  {
   "cell_type": "code",
   "execution_count": null,
   "metadata": {},
   "outputs": [
    {
     "name": "stdout",
     "output_type": "stream",
     "text": [
      "After 7 years, an initial deposit of 200 with an interest rate of 5% will be 140.71\n"
     ]
    }
   ],
   "source": [
    "#Let us resume the calculation of interest.\n",
    "\n",
    "print(f\"After {years} years, an initial deposit of {initial} with an interest rate of {ir}% will be {final:.2f}\")\n",
    "\n",
    "#WARNING\n",
    "\n",
    "#You need to run the cells in order. Remember we changed the 'initial' variable. However we did NOT change the value of final.\n",
    "#So either redo the calculation of use new variables."
   ]
  },
  {
   "cell_type": "code",
   "execution_count": 26,
   "metadata": {},
   "outputs": [
    {
     "name": "stdout",
     "output_type": "stream",
     "text": [
      "10000000000\n",
      "A lot :1e+10.\n"
     ]
    }
   ],
   "source": [
    "#What if we want to use scientific notation?\n",
    "\n",
    "large = 10000000000\n",
    "print(large)\n",
    "print(f\"A lot :{large:g}.\")"
   ]
  },
  {
   "cell_type": "markdown",
   "metadata": {},
   "source": [
    "# LOOPS\n",
    "\n",
    "\n"
   ]
  },
  {
   "cell_type": "markdown",
   "metadata": {},
   "source": [
    "for element in list:\n",
    "<statement1>\n",
    "<statement2>\n",
    "..."
   ]
  },
  {
   "cell_type": "code",
   "execution_count": 29,
   "metadata": {},
   "outputs": [
    {
     "name": "stdout",
     "output_type": "stream",
     "text": [
      "Hello im 0\n",
      "Hello im 1\n",
      "Hello im 2\n",
      "Hello im 3\n"
     ]
    }
   ],
   "source": [
    "#Be very much careful with indentation. Python is very strict with this.\n",
    "#Because we do not have brackets, we use indentation.\n",
    "\n",
    "for i in [0,1,2,3]:\n",
    "    print (\"Hello im\", i)"
   ]
  },
  {
   "cell_type": "code",
   "execution_count": 30,
   "metadata": {},
   "outputs": [
    {
     "name": "stdout",
     "output_type": "stream",
     "text": [
      "After 0 years, we would have 200.00€ in the bank.\n",
      "After 1 years, we would have 210.00€ in the bank.\n",
      "After 2 years, we would have 220.50€ in the bank.\n",
      "After 3 years, we would have 231.53€ in the bank.\n",
      "After 4 years, we would have 243.10€ in the bank.\n",
      "After 5 years, we would have 255.26€ in the bank.\n",
      "After 6 years, we would have 268.02€ in the bank.\n",
      "After 7 years, we would have 281.42€ in the bank.\n",
      "After 8 years, we would have 295.49€ in the bank.\n",
      "After 9 years, we would have 310.27€ in the bank.\n",
      "After 10 years, we would have 325.78€ in the bank.\n"
     ]
    }
   ],
   "source": [
    "#We can use the range command to make this easier.\n",
    "for i in range(11):\n",
    "    final = initial*(1+ir/100)**i\n",
    "    print(f\"After {i} years, we would have {final:.2f}€ in the bank.\")\n",
    "    "
   ]
  },
  {
   "cell_type": "markdown",
   "metadata": {},
   "source": [
    "There are several things to be understood.\n",
    "1. The 'i' is our iterator variable\n",
    "2. This variable must have an initial value (here 0) and final value (here 10)\n",
    "3. The command 'range(N)' creates a list of integers from 0 to N-1. \n",
    "4. You can increase the step with the command 'range(a,b+1,s)' where you are starting on 'a', ending exactly on 'b' and with step 's'.\n",
    "5. You need indentation."
   ]
  },
  {
   "cell_type": "code",
   "execution_count": null,
   "metadata": {},
   "outputs": [],
   "source": [
    "#We can put loops inside loops\n",
    "for m in range(3):\n",
    "    for k in range(7):\n",
    "        print(f\"La multiplicación de {m} por {k} es {m*k}\")"
   ]
  },
  {
   "cell_type": "markdown",
   "metadata": {},
   "source": [
    "\n",
    "Let us do a little exercise\n",
    "\n",
    "Write a loop that calculates the sum of all integers from 1 to N ad print out the final result."
   ]
  },
  {
   "cell_type": "code",
   "execution_count": 33,
   "metadata": {},
   "outputs": [
    {
     "name": "stdout",
     "output_type": "stream",
     "text": [
      "The final result is 5050\n"
     ]
    }
   ],
   "source": [
    "N = 100\n",
    "result=0\n",
    "for i in range(1,N+1,1):\n",
    "    result=result+i\n",
    "print(f\"The final result is {result}\")"
   ]
  },
  {
   "cell_type": "markdown",
   "metadata": {},
   "source": [
    "Now let us doo WHILE LOOPS\n"
   ]
  },
  {
   "cell_type": "code",
   "execution_count": null,
   "metadata": {},
   "outputs": [],
   "source": [
    "#Let us do a while loop\n",
    "i=0\n",
    "initial=100\n",
    "ir=5\n",
    "while i<11: #the Boolean condition controlling the loop\n",
    "    final=initial*(1+ir/100)**i\n",
    "    print(f\"After {i} years, we would have {final:.2f}€ in the bank.\")\n",
    "    i+=1  #This is the increment of the loop."
   ]
  },
  {
   "cell_type": "code",
   "execution_count": 6,
   "metadata": {},
   "outputs": [
    {
     "name": "stdout",
     "output_type": "stream",
     "text": [
      "The final result is 5050\n"
     ]
    }
   ],
   "source": [
    "#Let us redo the exercise with the while loop.\n",
    "i=0\n",
    "result=0\n",
    "N=100\n",
    "while i<N+1:\n",
    "    result=result+i\n",
    "    i+=1\n",
    "print(f\"The final result is {result}\")"
   ]
  },
  {
   "cell_type": "markdown",
   "metadata": {},
   "source": [
    "Boolean Logic:\n",
    "\n",
    "- AND : only true when they are both true\n",
    "- OR: true when one of them is true\n",
    "- NOT: ...."
   ]
  },
  {
   "cell_type": "markdown",
   "metadata": {},
   "source": [
    "# Functions"
   ]
  },
  {
   "cell_type": "code",
   "execution_count": null,
   "metadata": {},
   "outputs": [],
   "source": [
    "#What if we do not want to copy and paste everytime. We can use functions.\n",
    "\n",
    "#For that we use the 'def' command.\n",
    "\n",
    "\"\"\"\n",
    "def function_name(argument1, argument2):\n",
    "    local_variable = argument1 + argument2\n",
    "    return local_variable\n",
    "    \n",
    "\"\"\""
   ]
  },
  {
   "cell_type": "code",
   "execution_count": null,
   "metadata": {},
   "outputs": [],
   "source": [
    "#Let us do the interest function\n",
    "\n",
    "def final_amount(initial, years):\n",
    "    final = initial*(1+ir/100)**years\n",
    "    return final\n",
    "\n",
    "#When you run this function in jupyter, you will not see anything. You need to call the function."
   ]
  },
  {
   "cell_type": "code",
   "execution_count": null,
   "metadata": {},
   "outputs": [
    {
     "data": {
      "text/plain": [
       "140.71004226562505"
      ]
     },
     "execution_count": 9,
     "metadata": {},
     "output_type": "execute_result"
    }
   ],
   "source": [
    "#However after you call, you will see the result.\n",
    "\n",
    "final_amount(100,7)"
   ]
  },
  {
   "cell_type": "code",
   "execution_count": null,
   "metadata": {},
   "outputs": [],
   "source": [
    "#Another thing to take into account is DOCUMENTING YOUR FUNCTION.\n",
    "#How do we do this?\n",
    "\n",
    "#We need to use the \"\"\" command.\n",
    "\n",
    "def final_amount(initial, years):\n",
    "    \"\"\"\n",
    "\n",
    "    Args:\n",
    "        initial (float): The initial value of the deposit.\n",
    "        years (integer): The amount of years it will be deposited.\n",
    "    \n",
    "    Returns:\n",
    "    \n",
    "        final: The final amount of the deposit after the years.\n",
    "    \n",
    "    \"\"\"\n",
    "    final = initial*(1+ir/100)**years\n",
    "    return final\n",
    "    "
   ]
  },
  {
   "cell_type": "code",
   "execution_count": 11,
   "metadata": {},
   "outputs": [],
   "source": [
    "#Let us do the same function as before\n",
    "\n",
    "def suma(N):\n",
    "    \"\"\"\n",
    "    Args:\n",
    "        N (integer): The number until which we want to sum.\n",
    "    \n",
    "    Returns:\n",
    "    \n",
    "        result: The final result of the sum.\n",
    "    \n",
    "    \"\"\"\n",
    "    result=0\n",
    "    for i in range(1,N+1,1):\n",
    "        result=result+i\n",
    "    return result"
   ]
  },
  {
   "cell_type": "code",
   "execution_count": null,
   "metadata": {},
   "outputs": [
    {
     "data": {
      "text/plain": [
       "5050"
      ]
     },
     "execution_count": 12,
     "metadata": {},
     "output_type": "execute_result"
    }
   ],
   "source": [
    "#Remember, variables INSIDE a function python does not know what they are. They are local variables.\n",
    "#If you want to use them outside the function, you need to return them.\n",
    "\n",
    "\n",
    "#You can change the order of the function if it needs multiple parameters ONLY IF YOU REMEMBER THE VARIABLE NAME."
   ]
  },
  {
   "cell_type": "code",
   "execution_count": 27,
   "metadata": {},
   "outputs": [
    {
     "name": "stdout",
     "output_type": "stream",
     "text": [
      "3.141592653589793\n"
     ]
    }
   ],
   "source": [
    "#Let us do a little exercise. \n",
    "#Define a function that returns the area and the perimeter of a given circle's radius.\n",
    "from math import pi\n",
    "print (pi)\n",
    "\n",
    "def perimetro_area(r):\n",
    "    \"\"\"\n",
    "    Args:\n",
    "        r (float): The radius of the circle.\n",
    "    \n",
    "    Returns:\n",
    "    \n",
    "        perimetro: The perimeter of the circle.\n",
    "        area: The area of the circle.\n",
    "    \n",
    "    \"\"\"\n",
    "    perimetro = 2*pi*r\n",
    "    area = pi*r**2\n",
    "    return perimetro, area"
   ]
  },
  {
   "cell_type": "code",
   "execution_count": null,
   "metadata": {},
   "outputs": [
    {
     "name": "stdout",
     "output_type": "stream",
     "text": [
      "The perimeter of the circle is 31.42 and the area is 78.54\n"
     ]
    }
   ],
   "source": [
    "#Let us check whether the perimeter and area are correct.\n",
    "#Remember the ORDER it exports the variables.\n",
    "\n",
    "perimetro, area = perimetro_area(5)\n",
    "\n",
    "print(f\"The perimeter of the circle is {perimetro:.2f} and the area is {area:.2f}\")"
   ]
  },
  {
   "cell_type": "code",
   "execution_count": 30,
   "metadata": {},
   "outputs": [
    {
     "name": "stdout",
     "output_type": "stream",
     "text": [
      "hello\n"
     ]
    }
   ],
   "source": [
    "#Functions dont need to have a return value. They can be void functions.\n",
    "\n",
    "def silly(input):\n",
    "    print(input)\n",
    "\n",
    "silly(\"hello\")"
   ]
  },
  {
   "cell_type": "markdown",
   "metadata": {},
   "source": [
    "# If statements\n",
    "\n",
    "\n",
    "if condition:\n",
    "\n",
    "    < code that executes if the condition is true>\n",
    "\n",
    "elif (in order and you can concatenate conditions)\n",
    "\n",
    "else (you dont need else)\n",
    "    \n",
    "    < code outside the if statement>"
   ]
  },
  {
   "cell_type": "code",
   "execution_count": null,
   "metadata": {},
   "outputs": [],
   "source": [
    "#Let us do a change to the bank function.\n",
    "#We will change whether the interest rate is 5, 6 or 8 depending on the initial deposit.\n",
    "#We will be using if, elif and else\n",
    "\n",
    "def final_amount(initial, years):\n",
    "    \n",
    "    if initial <= 1000:\n",
    "        ir = 5\n",
    "    elif initial <= 10000:\n",
    "        ir = 6\n",
    "    else:\n",
    "        ir = 8\n",
    "    \n",
    "    final_amount=initial*(1+ir/100)**years\n",
    "    \n",
    "    #I've added the ir to the return so we can check the interest rate.\n",
    "    \n",
    "    return final_amount, ir\n"
   ]
  },
  {
   "cell_type": "code",
   "execution_count": 44,
   "metadata": {},
   "outputs": [
    {
     "name": "stdout",
     "output_type": "stream",
     "text": [
      "(1405.6933222335942, 5)\n",
      "(1407.1004226562504, 5)\n",
      "(1505.133889250352, 6)\n",
      "--------\n",
      "(15034.798959654614, 6)\n",
      "(15036.302589913606, 6)\n",
      "(17139.95651206399, 8)\n"
     ]
    }
   ],
   "source": [
    "print(final_amount(999,7))\n",
    "print(final_amount(1000,7))\n",
    "print(final_amount(1001,7))\n",
    "print(\"--------\")\n",
    "print(final_amount(9999,7))\n",
    "print(final_amount(10000,7))\n",
    "print(final_amount(10001,7))"
   ]
  }
 ],
 "metadata": {
  "kernelspec": {
   "display_name": "Python 3",
   "language": "python",
   "name": "python3"
  },
  "language_info": {
   "codemirror_mode": {
    "name": "ipython",
    "version": 3
   },
   "file_extension": ".py",
   "mimetype": "text/x-python",
   "name": "python",
   "nbconvert_exporter": "python",
   "pygments_lexer": "ipython3",
   "version": "3.12.1"
  }
 },
 "nbformat": 4,
 "nbformat_minor": 2
}

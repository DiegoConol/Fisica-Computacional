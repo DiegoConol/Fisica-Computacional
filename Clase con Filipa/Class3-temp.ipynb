{
 "cells": [
  {
   "cell_type": "markdown",
   "id": "47eb4026",
   "metadata": {},
   "source": [
    "# Introduction to Python -- Class 3\n",
    "\n",
    "(Date: 05/02/2025)\n",
    "\n",
    "Previous classes:\n",
    "\n",
    "1. Hello World!\n",
    "2. Variables and simple data types\n",
    "3. Readable printing \n",
    "4. Loops\n",
    "5. Boolean logic\n",
    "6. Functions\n",
    "7. If statements\n",
    "8. Lists\n",
    "\n",
    "This class:\n",
    "\n",
    "9. Python libraries: Numpy (Numerical Python)\n",
    "10. Python libraries: OS (Reading and writing data)\n",
    "11. Python libraries: Matplotlib for Plotting\n"
   ]
  },
  {
   "cell_type": "markdown",
   "id": "be0e4e13",
   "metadata": {},
   "source": [
    "## Python libraries: Numpy\n",
    "\n",
    "One of the big advantages of Python is that you don't have to write functions from scratch because others have most likely already done it for you.\n",
    "\n",
    "These functions are organized thematically into **libraries** or **modules**. To use them we first have to load them.\n",
    "\n",
    "* One of the most complete libraries is **numpy**. You can find the full documentation of numpy here: https://numpy.org/doc/\n",
    "\n",
    "* One module that will be very useful for us for reading and writing data (below) is the **os** module (coming from *Operating system*). You can find the full documentation of **os** here: https://docs.python.org/3/library/os.html\n",
    "\n",
    "* If you are curious, explore other libraries here: https://docs.python.org/3/library/\n",
    "\n",
    "**Recommendation**: Always import all the libraries and functions you use at the beginning of your code!"
   ]
  },
  {
   "cell_type": "code",
   "execution_count": null,
   "id": "017e688a",
   "metadata": {},
   "outputs": [],
   "source": [
    "# The first lines of your code should import all the libraries and functions you are using throughout your code:\n",
    "import os\n",
    "import scipy\n",
    "import numpy as np  # This way of importing prevents us from typing `numpy` every time. Instead, we can just type `np`\n",
    "import matplotlib.pyplot as plt  # Importing pyplot from matplotlib"
   ]
  },
  {
   "cell_type": "code",
   "execution_count": null,
   "id": "7652bfd0",
   "metadata": {},
   "outputs": [],
   "source": [
    "root = np.sqrt(2)\n",
    "print(root)"
   ]
  },
  {
   "cell_type": "markdown",
   "id": "4264ebbe",
   "metadata": {},
   "source": [
    "Here, we will review some of the functionalities of the numpy, introduce its main elements (arrays) and functions.\n",
    "\n",
    "This library is extensive and provides a lot of different funtionalities. We do not have time to go through it in detail so you are encouraged to explore it on your own at home. "
   ]
  },
  {
   "cell_type": "markdown",
   "id": "ea2281c2",
   "metadata": {},
   "source": [
    "You should be familiar with the concept of *matrix* and *vector*. For example, the position of an object in classical mechanics is usually a vector indexed by three numbers corresponding to the $x$,$y$, and $z$ coordeniates:\n",
    "$$\n",
    "\\vec{r}=\\left(\\begin{matrix} x\\\\y\\\\z\\end{matrix}\\right)\\, .\n",
    "$$\n",
    "\n",
    "The operations that transform an $n$-dimensional vector into an $m$-dimensional are given by $m \\times n$ matrices. Suppose $n=m=3$:\n",
    "$$\n",
    "A =\\left(\\begin{matrix}a_{11} & a_{12} & a_{13}\\\\a_{21} & a_{22} & a_{23}\\\\a_{31} & a_{32} & a_{33}\\end{matrix}\\right)\n",
    "$$\n",
    "\n",
    "As you can see, vectors and matrices are special types of lists. They contain elements of the same type (floats).\n",
    "\n",
    "<br>\n",
    "\n",
    "Because of this, numpy uses a special data structure called a **numpy array**. The syntax for creating an array is: `np.array([<list>])`.\n",
    "\n",
    "Let us see some examples:"
   ]
  },
  {
   "cell_type": "markdown",
   "id": "f75d7488",
   "metadata": {},
   "source": [
    "### Creating numpy arrays from lists"
   ]
  },
  {
   "cell_type": "code",
   "execution_count": null,
   "id": "180a072b",
   "metadata": {},
   "outputs": [],
   "source": [
    "vec = np.array([1,2,3])  # A vector with three entries (in practice a 3x1 matrix)\n",
    "A = np.array([[1,2,3], [4,5,6], [7, 8, 9]])  # A 3x3 matrix\n",
    "B = np.array([[[1, 2], [3, 4]],[[5, 6], [7, 8]], [[9, 10], [11, 12]]])  # A matrix containing three 2x2 matrices"
   ]
  },
  {
   "cell_type": "code",
   "execution_count": null,
   "id": "c19fe215",
   "metadata": {},
   "outputs": [],
   "source": [
    "print(f'vec = {vec}')\n",
    "print(f'A = {A}')\n",
    "print(f'B = {B}')"
   ]
  },
  {
   "cell_type": "markdown",
   "id": "e008a953",
   "metadata": {},
   "source": [
    "The objects `vec`, `A`, and `B` are all of the type `ndarray`, provided by the `numpy` library:"
   ]
  },
  {
   "cell_type": "code",
   "execution_count": null,
   "id": "5c7def8e",
   "metadata": {},
   "outputs": [],
   "source": [
    "type(vec), type(A), type(B)"
   ]
  },
  {
   "cell_type": "markdown",
   "id": "145f726a",
   "metadata": {},
   "source": [
    "The difference between then is their shape, which we can get from the `ndarray` property: `ndarray.shape`."
   ]
  },
  {
   "cell_type": "code",
   "execution_count": null,
   "id": "3b299239",
   "metadata": {},
   "outputs": [],
   "source": [
    "print(vec.shape)\n",
    "print(A.shape)\n",
    "print(B.shape)"
   ]
  },
  {
   "cell_type": "markdown",
   "id": "afeb7796",
   "metadata": {},
   "source": [
    "If we want to know the number of entries of a given numpy array we can retrieve that information using the property `ndarray.size`:"
   ]
  },
  {
   "cell_type": "code",
   "execution_count": null,
   "id": "c2c7706a",
   "metadata": {},
   "outputs": [],
   "source": [
    "print(vec.size)\n",
    "print(A.size)\n",
    "print(B.size)"
   ]
  },
  {
   "cell_type": "markdown",
   "id": "50de0ea5",
   "metadata": {},
   "source": [
    "An equivalent way of obtaining exactly the same information is using the numpy functions `numpy.shape` and `numpy.size`:"
   ]
  },
  {
   "cell_type": "code",
   "execution_count": null,
   "id": "2ec2771f",
   "metadata": {},
   "outputs": [],
   "source": [
    "print(np.shape(A))\n",
    "print(np.size(A))"
   ]
  },
  {
   "cell_type": "markdown",
   "id": "10482f3d",
   "metadata": {},
   "source": [
    "So far, any element of type `numpy.ndarray` looks like a Python list (simple or nested). So why not just use Python lists for all calculations instead of creating a new type of object called array?\n",
    "\n",
    "There are several reasons for this:\n",
    "\n",
    "* Python lists are quite general. They can contain any type of object, they are also dynamically typed, but the big drawback is that **they do not support the action of mathematical functions**, such as matrix multiplication, dot product, etc. On the other hand, implementing such functions for Python lists would not have been very efficient precisely because of this dynamic typing.\n",
    "\n",
    "<br>\n",
    "\n",
    "* Contrary to this, arrays in Numpy are **statically typed** and are **homogeneous**. That is, the type of the elements is determined when the array is created. In this way, Numpy arrays manage memory much better. Due to static typing, fairly fast implementations of mathematical functions such as multiplication and addition of `numpy` arrays can be done in a compiled language (C and Fortran)."
   ]
  },
  {
   "cell_type": "code",
   "execution_count": null,
   "id": "f867c23a",
   "metadata": {},
   "outputs": [],
   "source": [
    "A.dtype"
   ]
  },
  {
   "cell_type": "markdown",
   "id": "e6510591",
   "metadata": {},
   "source": [
    "If we want to create an array with a specific type, we should do as follows:"
   ]
  },
  {
   "cell_type": "code",
   "execution_count": null,
   "id": "07a3c51a",
   "metadata": {},
   "outputs": [],
   "source": [
    "M1 = np.array([[1, 2], [3, 4]], dtype=int)\n",
    "M2 = np.array([[1, 2], [3, 4]], dtype=complex)\n",
    "\n",
    "print(M1.dtype)\n",
    "print(M2.dtype)"
   ]
  },
  {
   "cell_type": "markdown",
   "id": "4f9c9bf0",
   "metadata": {},
   "source": [
    "### Creating arrays from Numpy generating functions\n",
    "\n",
    "Rather than creating an array using a list, Numpy provides several functions that allow us to create different numpy arrays:"
   ]
  },
  {
   "cell_type": "markdown",
   "id": "e45771d9",
   "metadata": {},
   "source": [
    "* `numpy.arange(a,b,c)` -> creates an array with the first element equal to `a`, the last element equal to `b-c`, and a step of `c`. Importantly, `b` is **NOT** a part of the array!"
   ]
  },
  {
   "cell_type": "code",
   "execution_count": null,
   "id": "8570f354",
   "metadata": {},
   "outputs": [],
   "source": [
    "v = np.arange(0,10,1)\n",
    "print(v)\n",
    "\n",
    "v = np.arange(-1,1,0.1)\n",
    "print(v)"
   ]
  },
  {
   "cell_type": "markdown",
   "id": "6dcb5b3b",
   "metadata": {},
   "source": [
    "* `numpy.linspace(a,b,c)` -> in this case both the start point (`a`) and the end point `b` are included in the array; `c` determines the size of the array (i.e. the number of entries):"
   ]
  },
  {
   "cell_type": "code",
   "execution_count": null,
   "id": "62d9e2c1",
   "metadata": {},
   "outputs": [],
   "source": [
    "v = np.linspace(0, 10, 11)\n",
    "print(v)\n",
    "\n",
    "v = np.linspace(-1, 1, 21)\n",
    "print(v)"
   ]
  },
  {
   "cell_type": "markdown",
   "id": "7cb93816",
   "metadata": {},
   "source": [
    "* `numpy.zeros(shape)` -> Creates a numpy array with the given `shape` where every entry is 0."
   ]
  },
  {
   "cell_type": "code",
   "execution_count": null,
   "id": "4cfa3c6d",
   "metadata": {},
   "outputs": [],
   "source": [
    "Z1 = np.zeros(2, dtype=int)  # Here, we choose the type to be integer. We create a vector with two entries.\n",
    "Z2 = np.zeros((3, 3))\n",
    "Z3 = np.zeros((2,3,3))\n",
    "\n",
    "print(f\"Z1 = {Z1}\")\n",
    "print(f\"Z2 = {Z2}\")\n",
    "print(f\"Z3 = {Z3}\")"
   ]
  },
  {
   "cell_type": "markdown",
   "id": "4f6b9378",
   "metadata": {},
   "source": [
    "* `numpy.ones(shape)` -> Creates a numpy array with the given `shape` where every entry is 1."
   ]
  },
  {
   "cell_type": "code",
   "execution_count": null,
   "id": "3414f17d",
   "metadata": {},
   "outputs": [],
   "source": [
    "O1 = np.ones(2, dtype=int)  # Here, we choose the type to be integer.\n",
    "O2 = np.ones((3, 3))\n",
    "O3 = np.ones((2, 3, 3))\n",
    "\n",
    "print(f\"O1 = {O1}\")\n",
    "print(f\"O2 = {O2}\")\n",
    "print(f\"O3 = {O3}\")"
   ]
  },
  {
   "cell_type": "markdown",
   "id": "6375c817",
   "metadata": {},
   "source": [
    "* Here are some other useful examples:"
   ]
  },
  {
   "cell_type": "code",
   "execution_count": null,
   "id": "bf4d1079",
   "metadata": {},
   "outputs": [],
   "source": [
    "Identity = np.eye(4)  # Creates a 4x4 identity matrix.\n",
    "Diagonal = np.diag([1,2,3])  # Creates a matrix with the input list in the diagonal\n",
    "Random = np.random.rand(5, 5)  # Creates a 5x5 matrix with random entries between 0 and 1\n",
    "\n",
    "\n",
    "print(Identity)\n",
    "print(Diagonal)\n",
    "print(Random)"
   ]
  },
  {
   "cell_type": "markdown",
   "id": "c03f6540",
   "metadata": {},
   "source": [
    "### Manipulating arrays\n",
    "\n",
    "To get a certain element of a numpy array things work similarly as they do for lists."
   ]
  },
  {
   "cell_type": "code",
   "execution_count": null,
   "id": "e7e7c316",
   "metadata": {},
   "outputs": [],
   "source": [
    "v = np.linspace(0, 10, 11)\n",
    "print(v)\n",
    "print(v[2])"
   ]
  },
  {
   "cell_type": "code",
   "execution_count": null,
   "id": "e9a55008",
   "metadata": {},
   "outputs": [],
   "source": [
    "print(Random)\n",
    "print(Random[1,1])\n",
    "print(Random[-1,:])"
   ]
  },
  {
   "cell_type": "markdown",
   "id": "879c6cdf",
   "metadata": {},
   "source": [
    "**Exercise**<br>\n",
    "\n",
    "Use an array and a loop to calculate the values of the sine function from 0 to $2\\pi$ in steps of 0.01."
   ]
  },
  {
   "cell_type": "code",
   "execution_count": null,
   "id": "2675e283",
   "metadata": {},
   "outputs": [],
   "source": [
    "# One possible solution:\n",
    "\n",
    "x = 2 * np.pi * np.linspace(0, 1, 101)\n",
    "sine = np.zeros(len(x))\n",
    "for n in range(len(x)):\n",
    "    sine[n] = np.sin(x[n])\n",
    "print(sine)"
   ]
  },
  {
   "cell_type": "code",
   "execution_count": null,
   "id": "279a4494",
   "metadata": {},
   "outputs": [],
   "source": [
    "# A solution with the magic of numpy:\n",
    "\n",
    "x = 2 * np.pi * np.linspace(0, 1, 101)\n",
    "sine = np.sin(x)\n",
    "print(sine)"
   ]
  },
  {
   "cell_type": "markdown",
   "id": "2ac5a460",
   "metadata": {},
   "source": [
    "Almost every function in numpy accepts numpy arrays as inputs (as just illustrated for the sine). This saves as a lot of time and effort, since we don't need to write `for` loops.\n",
    "\n",
    "This **element-wise** calculation also applies to arithmetic functions:"
   ]
  },
  {
   "cell_type": "code",
   "execution_count": null,
   "id": "7ccb1a09",
   "metadata": {},
   "outputs": [],
   "source": [
    "M = np.array([[1,2], [3,4]])\n",
    "Msq = M**2\n",
    "Mp2 = M + 2\n",
    "\n",
    "print(f\"M squared = {Msq}\")\n",
    "print(f\"M + 2 = {Mp2}\")"
   ]
  },
  {
   "cell_type": "markdown",
   "id": "731f8c23",
   "metadata": {},
   "source": [
    "### Matrix operations"
   ]
  },
  {
   "cell_type": "code",
   "execution_count": null,
   "id": "69088aba",
   "metadata": {},
   "outputs": [],
   "source": [
    "# Recall the previously defined variables A and vec\n",
    "print(A)\n",
    "print(vec)"
   ]
  },
  {
   "cell_type": "code",
   "execution_count": null,
   "id": "eefe5371",
   "metadata": {},
   "outputs": [],
   "source": [
    "# Using * for multiplying performs element-wise multiplication. \n",
    "print(vec*vec)\n",
    "print(A*vec)\n",
    "print(A*A)"
   ]
  },
  {
   "cell_type": "markdown",
   "id": "88087509",
   "metadata": {},
   "source": [
    "If we want to do matrix multiplication we need to do one of the following:"
   ]
  },
  {
   "cell_type": "code",
   "execution_count": null,
   "id": "306b0a6c",
   "metadata": {},
   "outputs": [],
   "source": [
    "print(f\"A@vec = {A@vec}\")\n",
    "print(f\"matmul(A,vec) = {np.matmul(A,vec)}\")\n",
    "print(f\"dot(A,vec) = {np.dot(A,vec)}\")"
   ]
  },
  {
   "cell_type": "code",
   "execution_count": null,
   "id": "e0f04bab",
   "metadata": {},
   "outputs": [],
   "source": [
    "print(f\"A@A = {A@A}\")\n",
    "print(f\"matmul(A,A) = {np.matmul(A,A)}\")\n",
    "print(f\"dot(A,A) = {np.dot(A,A)}\")"
   ]
  },
  {
   "cell_type": "markdown",
   "id": "1709a0f5",
   "metadata": {},
   "source": [
    "Let us see fome more examples of things that might be useful for you:"
   ]
  },
  {
   "cell_type": "code",
   "execution_count": null,
   "id": "0c898bac",
   "metadata": {},
   "outputs": [],
   "source": [
    "print(f\"Outer product = {np.outer(vec,vec)}\")\n",
    "print(f\"Power of a matrix = {np.linalg.matrix_power(A,2)}\")\n",
    "print(f\"SVD = {np.linalg.svd(A)}\")\n",
    "print(f\"Eigenvalues = {np.linalg.eigvals(A)}\")"
   ]
  },
  {
   "cell_type": "markdown",
   "id": "d6216e29",
   "metadata": {},
   "source": [
    "**Exercise**\n",
    "\n",
    "Create the following matrix:\n",
    "\n",
    "$$\n",
    "    Z = \\left(\\begin{matrix} 2 & 3 & 2 & 4\\\\\n",
    "                             4 & 1 & 0 & 17\\\\\n",
    "                             24 & 0 & -1 & -3\\\\\n",
    "                             4 & 2 & 14 & 2 \\end{matrix}\\right)\n",
    "$$\n",
    "\n",
    "1.  Write code that transforms matrix $Z$ into the following matrix (use for loops, while loops, and/or if statements)\n",
    "    $$\n",
    "        H = \\left(\\begin{matrix} 2 & 0 & 0 & 4\\\\\n",
    "                             0 & 1 & 0 & 0\\\\\n",
    "                             0 & 0 & -1 & 0\\\\\n",
    "                             4 & 0 & 0 & 2 \\end{matrix}\\right)\n",
    "    $$\n",
    "2. Write code that extracts from $H$ the following $2\\times 2$ matrix (use for loops, while loops, and/or if statements). Hint: Search the function `numpy.delete` in the numpy documentation:\n",
    "   $$\n",
    "       X=\\left(\\begin{matrix} 2 & 4 \\\\\n",
    "                            4 & 2\\end{matrix}  \\right)\n",
    "   $$\n",
    "3. Take the exponential of the matrix $X$ (think before you code!)\n",
    "   $$\n",
    "       A = \\exp(-i\\pi X)\n",
    "   $$"
   ]
  },
  {
   "cell_type": "code",
   "execution_count": null,
   "id": "d5dc17c4",
   "metadata": {},
   "outputs": [],
   "source": [
    "Z = np.array([[2,3,2,4],[4,1,0,17],[24,0,-1,-3],[4,2,14,2]])\n",
    "print(Z)"
   ]
  },
  {
   "cell_type": "code",
   "execution_count": null,
   "id": "aa4249e6",
   "metadata": {},
   "outputs": [],
   "source": [
    "# For 1. (using two for loops and one if statement):\n",
    "\n",
    "H = Z.copy()\n",
    "for m in range(1,5):\n",
    "    for n in range(1,5):\n",
    "        if m*n==2 or m*n==3 or m*n==8 or m*n==12:\n",
    "            H[n-1,m-1] = 0\n",
    "print(B)"
   ]
  },
  {
   "cell_type": "code",
   "execution_count": null,
   "id": "988e15ab",
   "metadata": {},
   "outputs": [],
   "source": [
    "# For 1. (using two while loops and two if statements)\n",
    "\n",
    "H = Z.copy()\n",
    "m = 0\n",
    "n = 0\n",
    "while n<=3:\n",
    "    while m<=3:\n",
    "        if (n==0 or n==3) and (m==1 or m==2):\n",
    "            H[n,m]=0\n",
    "        elif (n==1 or n==2) and (m==0 or m==3):\n",
    "            H[n,m]=0 \n",
    "        m = m+1\n",
    "    n = n+1\n",
    "    m = 0    \n",
    "print(H)"
   ]
  },
  {
   "cell_type": "code",
   "execution_count": null,
   "id": "2597edbb",
   "metadata": {},
   "outputs": [],
   "source": [
    "# For 2., using two for loops and one if\n",
    "\n",
    "indices = []\n",
    "for n in range(2):\n",
    "    for m in range(4):\n",
    "        if 0 < m <3:\n",
    "            indices.append(m)\n",
    "    H = np.delete(H,indices,n)        \n",
    "print(H)          "
   ]
  },
  {
   "cell_type": "code",
   "execution_count": null,
   "id": "7897b6e1",
   "metadata": {},
   "outputs": [],
   "source": [
    "# For 3.,\n",
    "\n",
    "# (a) Start by calculating the eigenvalues and eigenvector:\n",
    "Eval, Evec= np.linalg.eigh(H)\n",
    "\n",
    "print(f\"The eigenvalues are: {Eval}\")\n",
    "print(f\"The eigenvectors are: {Evec}\")\n",
    "\n",
    "# (b) Write the function that calculates de exponential:\n",
    "def mexp(eigenval, eigenvec):\n",
    "    return np.matmul(\n",
    "        np.matmul(eigenvec, np.diag(np.exp(-1j * np.pi * eigenval))),\n",
    "        np.transpose(eigenvec))\n",
    "\n",
    "\n",
    "print(f\"The result of matrix exponentiation is: {mexp(Eval, Evec)}\")"
   ]
  },
  {
   "cell_type": "markdown",
   "id": "c498ac1d",
   "metadata": {},
   "source": [
    "If you want it, Python probably has it..."
   ]
  },
  {
   "cell_type": "code",
   "execution_count": null,
   "id": "3ae21cc3",
   "metadata": {},
   "outputs": [],
   "source": [
    "# For this, we can also use scipy\n",
    "A = scipy.linalg.expm(-1.j*np.pi*H)\n",
    "print(A)"
   ]
  },
  {
   "cell_type": "markdown",
   "id": "cca0124c",
   "metadata": {},
   "source": [
    "---"
   ]
  },
  {
   "cell_type": "markdown",
   "id": "13f4052c",
   "metadata": {},
   "source": [
    "## Reading and writing data"
   ]
  },
  {
   "cell_type": "code",
   "execution_count": null,
   "id": "fbf0dd86",
   "metadata": {},
   "outputs": [],
   "source": [
    "path = \"/Users/fcrperes/Documents/3._Academic/PostDoc1/_Teaching/My_materials/\"\n",
    "folder = path + \"Data/\"\n",
    "\n",
    "try:  #  This snippet of code will try to create a folder.\n",
    "    os.mkdir(folder)  #  If, such a folder doesn't exist, it creates it.\n",
    "except FileExistsError:  #  If it does exist, then it does nothing\n",
    "    pass\n"
   ]
  },
  {
   "cell_type": "markdown",
   "id": "ab7d6442",
   "metadata": {},
   "source": [
    "You can use the following structure to save the vector `y` in a file `sine.npy` in the folder held in the variable `folder`."
   ]
  },
  {
   "cell_type": "code",
   "execution_count": null,
   "id": "5b68203b",
   "metadata": {},
   "outputs": [],
   "source": [
    "x = np.linspace(0, 1, 11)\n",
    "y = np.sin(2 * np.pi * x)\n",
    "\n",
    "print(y)\n",
    "np.save(os.path.join(folder, 'sine'), y)"
   ]
  },
  {
   "cell_type": "markdown",
   "id": "24e0d6e2",
   "metadata": {},
   "source": [
    "What if we want to save several different arrays in the same file? In this case, the command `numpy.savez` is useful. It has the following structure: <br>\n",
    "\n",
    "`numpy.savez(\"Direction where to save the arrays (including file name)\", name1=array1, name2=array2, ...)`\n",
    "\n",
    "<br>\n",
    "\n",
    "Here is an example:"
   ]
  },
  {
   "cell_type": "code",
   "execution_count": null,
   "id": "299e0c6a",
   "metadata": {},
   "outputs": [],
   "source": [
    "np.savez(folder + \"sine2\", x=x, y=y)"
   ]
  },
  {
   "cell_type": "markdown",
   "id": "957ad07c",
   "metadata": {},
   "source": [
    "We can also save .txt and .csv files. Here is an example:"
   ]
  },
  {
   "cell_type": "code",
   "execution_count": null,
   "id": "c0a1cd6c",
   "metadata": {},
   "outputs": [],
   "source": [
    "np.savetxt(folder + 'sine.txt', y)"
   ]
  },
  {
   "cell_type": "markdown",
   "id": "9180d6f3",
   "metadata": {},
   "source": [
    "**Exercise**<br>\n",
    "\n",
    "Write a function for our problem of the interest rate standard whose results are automatically saved in an .npy file in a specific folder in you computer."
   ]
  },
  {
   "cell_type": "code",
   "execution_count": null,
   "id": "d1b000b4",
   "metadata": {},
   "outputs": [],
   "source": [
    "def final_amount(initial, years):\n",
    "    \"\"\"This function calculates the final amount of money in the bank\n",
    "    given an `initial` value and a number of `years`, at a fix\n",
    "    interest rate of 5%.\n",
    "\n",
    "    Args:\n",
    "        initial (float): Initial amount of money\n",
    "        years (int): Number of years in the bank\n",
    "    \"\"\"\n",
    "    rate = 5.\n",
    "    path = \"/Users/fcrperes/Documents/3._Academic/PostDoc1/_Teaching/My_materials/Data/\"\n",
    "\n",
    "    try:  #  This snippet of code will try to create a folder.\n",
    "        os.mkdir(folder)  #  If, such a folder doesn't exist, it creates it.\n",
    "    except FileExistsError:  #  If it does exist, then it does nothing\n",
    "        pass\n",
    "\n",
    "    yearly_money = np.zeros(years + 1)\n",
    "    for i in range(years + 1):\n",
    "        yearly_money[i] = initial * (1 + rate / 100)**i\n",
    "\n",
    "    np.save(path + \"Money\", yearly_money)"
   ]
  },
  {
   "cell_type": "code",
   "execution_count": null,
   "id": "12c4a20f",
   "metadata": {},
   "outputs": [],
   "source": [
    "final_amount(1000,10)"
   ]
  },
  {
   "cell_type": "markdown",
   "id": "7f9bb4e7",
   "metadata": {},
   "source": [
    "Now, how can we **read the data in these files**? We can use the command `numpy.load` as follows:\n",
    "\n",
    "`numpy.load(\"Path to the file you want to read\")`\n",
    "\n",
    "Here is an example:"
   ]
  },
  {
   "cell_type": "code",
   "execution_count": null,
   "id": "11a8b515",
   "metadata": {},
   "outputs": [],
   "source": [
    "results = np.load(folder + 'sine.npy')\n",
    "print(results)"
   ]
  },
  {
   "cell_type": "markdown",
   "id": "77dc902b",
   "metadata": {},
   "source": [
    "What about when the file holds multiple arrays?\n",
    "\n",
    "This is how you would do it:"
   ]
  },
  {
   "cell_type": "code",
   "execution_count": null,
   "id": "20f54ac0",
   "metadata": {},
   "outputs": [],
   "source": [
    "data = np.load(folder + \"sine2.npz\")\n",
    "print(data[\"x\"])\n",
    "print(data[\"y\"])"
   ]
  },
  {
   "cell_type": "markdown",
   "id": "7f5277ab",
   "metadata": {},
   "source": [
    "---"
   ]
  },
  {
   "cell_type": "markdown",
   "id": "ca20513e",
   "metadata": {},
   "source": [
    "## Plotting\n",
    "\n",
    "We will now go through a very brief introduction to plotting with Python. We will do this using the **matplotlib**. For instructions on how to use matplotlib, you can go to the following link: https://matplotlib.org/stable/ . \n",
    "\n",
    "The documentation is very well structured. Since we have already loaded the library at the beginning of this notebook (as is recommended), we can go right ahead and use it."
   ]
  },
  {
   "cell_type": "markdown",
   "id": "605b37c0",
   "metadata": {},
   "source": [
    "We will start with a simple example where we will plot the sine function:"
   ]
  },
  {
   "cell_type": "code",
   "execution_count": null,
   "id": "82d72f64",
   "metadata": {},
   "outputs": [],
   "source": [
    "x = 2*np.pi*np.linspace(0,1,101)\n",
    "y = np.sin(x)\n",
    "\n",
    "plt.plot(x, y, label = \"sin(x)\")  \n",
    "plt.xlabel(\"Angle (in radians)\")  # Label for the x axis\n",
    "plt.ylabel(\"sin(x)\")              # Label for the y axis\n",
    "plt.legend()                      # Adding a legend (more useful when we plot multiple functions)\n",
    "plt.title(\"My first plot\")        # The title of the graph\n",
    "plt.show()"
   ]
  },
  {
   "cell_type": "markdown",
   "id": "b777ee92",
   "metadata": {},
   "source": [
    "We can use LaTeX to label the axis:"
   ]
  },
  {
   "cell_type": "code",
   "execution_count": null,
   "id": "c1553c0a",
   "metadata": {},
   "outputs": [],
   "source": [
    "plt.rcParams['text.usetex'] = True  # rcParams is a function that allows plot personalization\n",
    "\n",
    "x = 2*np.pi*np.linspace(0,1,101)\n",
    "y = np.sin(x)\n",
    "\n",
    "plt.plot(x,y, label = r'$\\sin(\\theta)$')\n",
    "plt.xlabel(r'$\\theta$', fontsize = 16)           \n",
    "plt.ylabel(r'$\\sin(\\theta)$', fontsize = 16)     \n",
    "plt.legend()                                     \n",
    "plt.title(r'\\textbf{My second plot}', fontsize = 20)        \n",
    "plt.axis([0, 2*np.pi, -1,1])  # Sets the length of the two axis. (Compare with the previous one)\n",
    "plt.show()"
   ]
  },
  {
   "cell_type": "markdown",
   "id": "d604c202",
   "metadata": {},
   "source": [
    "Let us keep editing the graph and doing new things:"
   ]
  },
  {
   "cell_type": "code",
   "execution_count": null,
   "id": "95384abd",
   "metadata": {},
   "outputs": [],
   "source": [
    "x = 2*np.pi*np.linspace(0,1,101)\n",
    "y = np.sin(x)\n",
    "\n",
    "plt.figure(figsize=(5, 5), layout = 'tight')  # Creates an object for our plot!\n",
    "plt.plot(x,y, label = r'$\\sin(\\theta)$')         \n",
    "plt.xlabel(r'$\\theta$', fontsize = 16)           \n",
    "plt.ylabel(r'$\\sin(\\theta)$', fontsize = 16)     \n",
    "plt.legend()                                     \n",
    "plt.title(r'\\textbf{My third plot}', fontsize = 20)\n",
    "plt.show()"
   ]
  },
  {
   "cell_type": "markdown",
   "id": "6a77fdcc",
   "metadata": {},
   "source": [
    "Let's put several curves in the same plot."
   ]
  },
  {
   "cell_type": "code",
   "execution_count": null,
   "id": "12e58c3f",
   "metadata": {},
   "outputs": [],
   "source": [
    "plt.rcParams['text.usetex'] = True\n",
    "\n",
    "x = 2*np.pi*np.linspace(0,1,100)\n",
    "y1 = np.cos(x)\n",
    "y2 = np.sin(x)\n",
    "plt.plot(x,y1, 'r--', label = r'$\\cos(\\theta)$')   # The second parameter indicates the color and shape of the line\n",
    "plt.plot(x,y2, 'b*', label = r'$\\sin(\\theta)$')\n",
    "\n",
    "plt.xlabel(r'$\\theta$', fontsize = 16)           \n",
    "plt.ylabel(r'$f(\\theta)$', fontsize = 16)     \n",
    "plt.legend()                                     \n",
    "plt.title(r'\\textbf{Sine and cosine}', fontsize = 20)        \n",
    "plt.axis([0, 2*np.pi, -1,1])                     \n",
    "plt.show()"
   ]
  },
  {
   "cell_type": "markdown",
   "id": "af485279",
   "metadata": {},
   "source": [
    "**Subfigures**\n",
    "\n",
    "To create multiple plots in the same figure we use the `fig.subplots` function. This function divides our figure into several parts called `axs` (not axes) where we can then add our figures."
   ]
  },
  {
   "cell_type": "code",
   "execution_count": 4,
   "id": "16816471",
   "metadata": {},
   "outputs": [
    {
     "data": {
      "image/png": "[encoded data removed]",
      "text/plain": [
       "<Figure size 350x250 with 4 Axes>"
      ]
     },
     "metadata": {},
     "output_type": "display_data"
    }
   ],
   "source": [
    "fig, axs = plt.subplots(ncols=2, nrows=2, figsize=(3.5, 2.5),\n",
    "                        layout=\"constrained\")\n",
    "\n",
    "for row in range(2):\n",
    "    for col in range(2):\n",
    "        axs[row, col].annotate(f'axs[{row}, {col}]', (0.5, 0.5),\n",
    "                            xycoords=axs[row, col].transAxes,\n",
    "                            ha='center', va='center', fontsize=18,\n",
    "                            color='darkgrey')\n",
    "      \n",
    "#axs[0,0].set_xlim(0,10)\n",
    "fig.suptitle('plt.subplots()')\n",
    "plt.show()"
   ]
  },
  {
   "cell_type": "markdown",
   "id": "aaa198ae",
   "metadata": {},
   "source": [
    "In the example above there is a low going on:\n",
    "* `fig` describes the figure as a whole;\n",
    "* `axs` in this case refers to all the subplots within the figure. Since we defined 2 rows and 2 columns of subplots, we need to call each subplot with axs[0,0] for the top left and axs[1,1] for the bottom right subplot;\n",
    "* `matplotlib.pyplot.annotate(text, xy)` is a function with two mandatory argurments, and a lot of optional ones. Let us understand what these optional arguments are doing..."
   ]
  },
  {
   "cell_type": "markdown",
   "id": "04eceec6",
   "metadata": {},
   "source": [
    "Note that calling subplots with no arguments creates a figure that uses a single graph. But notice that the functions for axis labels, etc. change slightly!\n",
    "\n",
    "Using subplots is more versatile so I recommend you get used to making your plots this way. This is also the standard way examples are made in matplotlib."
   ]
  },
  {
   "cell_type": "code",
   "execution_count": 5,
   "id": "cce437ff",
   "metadata": {},
   "outputs": [
    {
     "data": {
      "image/png": "[encoded data removed]",
      "text/plain": [
       "<Figure size 640x480 with 1 Axes>"
      ]
     },
     "metadata": {},
     "output_type": "display_data"
    }
   ],
   "source": [
    "plt.rcParams['text.usetex'] = True\n",
    "x = 2*np.pi*np.linspace(0,1,100)\n",
    "y1 = np.cos(x)\n",
    "y2 = np.sin(x)\n",
    "fig, ax = plt.subplots()\n",
    "ax.plot(x,y1, 'r', label = r'$\\cos(\\theta)$')    \n",
    "ax.plot(x,y2, 'b', label = r'$\\sin(\\theta)$')\n",
    "ax.set_xlabel(r'$\\theta$', fontsize = 16)\n",
    "ax.set_ylabel(r'$f(\\theta)$', fontsize = 20)\n",
    "ax.set_title(r'\\textbf{Two functions in the same figure}')\n",
    "ax.legend()\n",
    "plt.show()"
   ]
  },
  {
   "cell_type": "markdown",
   "id": "0ae49159",
   "metadata": {},
   "source": [
    "**Saving plots**<br>\n",
    "\n",
    "We can save plots with the command `plt.savefig()`\n"
   ]
  },
  {
   "cell_type": "code",
   "execution_count": null,
   "id": "0a0f29d0",
   "metadata": {},
   "outputs": [],
   "source": [
    "folder = \"/Users/fcrperes/Documents/3._Academic/PostDoc1/_Teaching/My_materials/_figs\"\n",
    "try:                         \n",
    "    os.mkdir(folder)         \n",
    "except FileExistsError:      \n",
    "    pass"
   ]
  },
  {
   "cell_type": "code",
   "execution_count": null,
   "id": "0c961f69",
   "metadata": {},
   "outputs": [],
   "source": [
    "plt.rcParams['text.usetex'] = True\n",
    "\n",
    "x = 2*np.pi*np.linspace(0,1,100)\n",
    "y1 = np.cos(x)\n",
    "y2 = np.sin(x)\n",
    "fig, ax = plt.subplots()\n",
    "ax.plot(x,y1, 'r', label = r'$\\cos(\\theta)$')    \n",
    "ax.plot(x,y2, 'b', label = r'$\\sin(\\theta)$')\n",
    "ax.set_xlabel(r'$\\theta$', fontsize = 16)\n",
    "ax.set_ylabel(r'$f(\\theta)$', fontsize = 20)\n",
    "ax.set_title(r'\\textbf{Two functions in the same plot}')\n",
    "ax.legend()\n",
    "plt.savefig(os.path.join(folder,'FirstPlot.pdf'))  # Saves the graphic in .pdf\n",
    "plt.show()     "
   ]
  },
  {
   "cell_type": "markdown",
   "id": "3339591a",
   "metadata": {},
   "source": [
    "**Changing tick marks on the axes**<br>\n",
    "\n",
    "Many times you do *not* want to display all tick marks on the axis, but only *some* of them. This can be achieved using the set_xticks and set_yticks commands."
   ]
  },
  {
   "cell_type": "code",
   "execution_count": null,
   "id": "1d8e668c",
   "metadata": {},
   "outputs": [],
   "source": [
    "plt.rcParams['text.usetex'] = True\n",
    "x = 2*np.pi*np.linspace(0,1,100)\n",
    "y1 = np.cos(x)\n",
    "y2 = np.sin(x)\n",
    "fig, ax = plt.subplots()\n",
    "ax.plot(x,y1, 'r', label = r'$\\cos(\\theta)$')\n",
    "ax.plot(x,y2, 'b', label = r'$\\sin(\\theta)$')\n",
    "ax.set_xlabel(r'$\\theta$', fontsize = 16)\n",
    "ax.set_ylabel(r'$f(\\theta)$', fontsize = 20)\n",
    "ax.set_xticks([0., 0.5 * np.pi, np.pi, 1.5 * np.pi, 2 * np.pi],\n",
    "              labels=[\n",
    "                  \"$0$\", r\"$\\frac{\\pi}{2}$\", r\"$\\pi$\", r\"$\\frac{3\\pi}{2}$\",\n",
    "                  r\"$2\\pi$\"\n",
    "              ])\n",
    "ax.set_yticks([-1.0, 0., 1])\n",
    "ax.set_title(r'\\textbf{Two functions in the same plot}')\n",
    "ax.legend()\n",
    "plt.show()"
   ]
  },
  {
   "cell_type": "markdown",
   "id": "7cbddd98",
   "metadata": {},
   "source": [
    "**Annotating graphs**<br>\n",
    "\n",
    "Many times you may want to add annotations to your graph. This is accomplished with the `axes.annotate()` command that we already looked briefly at before:<br>\n",
    "<br>\n",
    "`axes.annotate('text', xy=(x,y), xytext=(x,y), xycoords=the coordinate system for xy,\n",
    "textcoords=the coordinate system for xytext, arrowprops = type of arrow between xy and xytext)`"
   ]
  },
  {
   "cell_type": "code",
   "execution_count": null,
   "id": "1f56573b",
   "metadata": {},
   "outputs": [],
   "source": [
    "plt.rcParams['text.usetex'] = True\n",
    "x = 2*np.pi*np.linspace(0,1,100)\n",
    "y1 = np.cos(x)\n",
    "y2 = np.sin(x)\n",
    "fig, ax = plt.subplots()\n",
    "ax.plot(x,y1, 'r', label = r'$\\cos(\\theta)$')    \n",
    "ax.plot(x,y2, 'b', label = r'$\\sin(\\theta)$')\n",
    "ax.set_xlabel(r'$\\theta$', fontsize = 16)\n",
    "ax.set_ylabel(r'$f(\\theta)$', fontsize = 20)\n",
    "ax.set_xticks([0., 0.5*np.pi, np.pi, 1.5*np.pi, 2*np.pi], \n",
    "              labels = [\"$0$\", r\"$\\frac{\\pi}{2}$\",\n",
    "                       r\"$\\pi$\", r\"$\\frac{3\\pi}{2}$\", r\"$2\\pi$\"])\n",
    "ax.set_yticks([-1.0, 0., 1])\n",
    "ax.set_title(r'\\textbf{Two functions in the same plot}')\n",
    "ax.legend()\n",
    "ax.annotate('Maximum for sine', xy = (1.6,1), xytext = (3,0.95), \n",
    "            arrowprops = dict(facecolor='black', width = 2, headwidth = 5, \n",
    "                              headlength = 5, shrink = 0.05))\n",
    "plt.show()"
   ]
  },
  {
   "cell_type": "markdown",
   "id": "e5f2a528",
   "metadata": {},
   "source": [
    "**Insets**\n",
    "\n",
    "Many times we want to focus on a part of a graph, or simply insert a second graph inside a larger graph. To create an inset we need to create a new axis inside our graph."
   ]
  },
  {
   "cell_type": "code",
   "execution_count": null,
   "id": "68b3cfb7",
   "metadata": {},
   "outputs": [],
   "source": [
    "fig, ax = plt.subplots()\n",
    "axin1 = ax.inset_axes([0.2, 0.3, 0.4, 0.4])\n",
    "plt.show()"
   ]
  },
  {
   "cell_type": "markdown",
   "id": "319cb4eb",
   "metadata": {},
   "source": [
    "If you want to eliminate the tick marks you can do the following:"
   ]
  },
  {
   "cell_type": "code",
   "execution_count": null,
   "id": "a0dd7046",
   "metadata": {},
   "outputs": [],
   "source": [
    "fig, ax = plt.subplots()\n",
    "axin1 = ax.inset_axes([0.5, 0.75, 0.15, 0.15], xticklabels=[],yticklabels=[])\n",
    "#axin1.tick_params(labelleft=False, labelbottom=False)\n",
    "plt.show()"
   ]
  },
  {
   "cell_type": "markdown",
   "id": "8e63588d",
   "metadata": {},
   "source": [
    "Let us create a graphic for the sine function, with an inset containing the cosine function."
   ]
  },
  {
   "cell_type": "code",
   "execution_count": 3,
   "id": "64942834",
   "metadata": {},
   "outputs": [
    {
     "data": {
      "image/png": "[encoded data removed]",
      "text/plain": [
       "<Figure size 640x480 with 1 Axes>"
      ]
     },
     "metadata": {},
     "output_type": "display_data"
    }
   ],
   "source": [
    "#plt.rcParams['text.usetex'] = True\n",
    "x = 2*np.pi*np.linspace(0,1,100)\n",
    "y1 = np.cos(x)\n",
    "y2 = np.sin(x)\n",
    "\n",
    "fig, ax = plt.subplots()\n",
    "ax.plot(x,y2, 'b', label = r'$\\sin(\\theta)$')\n",
    "ax.set_xlabel(r'$\\theta$', fontsize = 16)\n",
    "ax.set_ylabel(r'$f(\\theta)$', fontsize = 16)\n",
    "ax.set_xticks([0., 0.5*np.pi, np.pi, 1.5*np.pi, 2*np.pi], labels = [\"$0$\", r\"$\\frac{\\pi}{2}$\",\n",
    "                       r\"$\\pi$\", r\"$\\frac{3\\pi}{2}$\", r\"$2\\pi$\"])\n",
    "ax.set_yticks([-1.0, 0., 1])\n",
    "\n",
    "# Create an inset at position 0.65% on x axes, 0.65% on y axes and with size 30% x 30% of the original plot\n",
    "axin1 = ax.inset_axes([0.65, 0.65, 0.30, 0.30])\n",
    "axin1.plot(x,y1, 'r', label = r'$\\cos(\\theta)$')\n",
    "axin1.set_xticks([0, np.pi, 2*np.pi], labels = [\"$0$\", r\"$\\pi$\", r\"$2\\pi$\"])\n",
    "plt.show()"
   ]
  },
  {
   "cell_type": "markdown",
   "id": "2a376b45",
   "metadata": {},
   "source": [
    "Now, let us create an inset that zooms in on part of the graphic of the sine fuction:"
   ]
  },
  {
   "cell_type": "code",
   "execution_count": null,
   "id": "6ca0ddba",
   "metadata": {},
   "outputs": [],
   "source": [
    "import matplotlib as plt\n",
    "import numpy as np\n",
    "\n",
    "plt.rcParams['text.usetex'] = True\n",
    "x = 2*np.pi*np.linspace(0,1,100)\n",
    "y1 = np.cos(x)\n",
    "y2 = np.sin(x)\n",
    "\n",
    "fig, ax = plt.subplots()\n",
    "ax.plot(x,y2, 'b', label = r'$\\sin(\\theta)$')\n",
    "ax.set_xlabel(r'$\\theta$', fontsize = 16)\n",
    "ax.set_ylabel(r'$f(\\theta)$', fontsize = 16)\n",
    "ax.set_xticks([0., 0.5*np.pi, np.pi, 1.5*np.pi, 2*np.pi], labels = [\"$0$\", r\"$\\frac{1}{2}\\pi$\",\n",
    "                       r\"$\\pi$\", r\"$\\frac{3}{2}\\pi$\", r\"$2\\pi$\"])\n",
    "ax.set_yticks([-1.0, 0., 1])\n",
    "\n",
    "x_zoom = 2*np.pi*np.linspace(0.2,0.3,100)\n",
    "y_zoom = np.sin(x_zoom)\n",
    "\n",
    "axins = ax.inset_axes(\n",
    "    [0.6, 0.6, 0.3, 0.3])\n",
    "axins.plot(x_zoom, y_zoom, 'r')\n",
    "axins.set_xticks([x_zoom[0], x_zoom[50], x_zoom[99]], \n",
    "                 labels=[r\"$\\frac{4\\pi}{10}$\",r\"$\\frac{5\\pi}{10}$\",r\"$\\frac{6\\pi}{10}$\"])\n",
    "ax.indicate_inset_zoom(axins, edgecolor=\"black\")\n",
    "plt.show()"
   ]
  },
  {
   "cell_type": "markdown",
   "id": "8d8287c3",
   "metadata": {},
   "source": [
    "**Error bars**<br>\n",
    "\n",
    "You should never quote any result of a calculation without including its appropriate error (we are not engineers!). To include error bars we do the following:"
   ]
  },
  {
   "cell_type": "code",
   "execution_count": null,
   "id": "d4fa1a8a",
   "metadata": {},
   "outputs": [],
   "source": [
    "plt.rcParams['text.usetex'] = True\n",
    "x = 2*np.pi*np.linspace(0,1,10)\n",
    "y = np.sin(x)\n",
    "x_err = 0.1*np.random.rand(10)\n",
    "y_err = 0.2*np.random.rand(10)\n",
    "fig, ax = plt.subplots()\n",
    "ax.errorbar(x, y, xerr = x_err, yerr = y_err, fmt='o', ecolor= 'r', elinewidth = 0.5, \n",
    "            barsabove=True, linestyle = 'dotted')\n",
    "ax.set_xlabel(r'$\\theta$', fontsize = 16)\n",
    "ax.set_ylabel(r'$f(\\theta)$', fontsize = 16)\n",
    "ax.set_xticks([0., 0.5*np.pi, np.pi, 1.5*np.pi, 2*np.pi], labels = [\"$0$\", r\"$\\frac{1}{2}\\pi$\",\n",
    "                       r\"$\\pi$\", r\"$\\frac{3}{2}\\pi$\", r\"$2\\pi$\"])\n",
    "ax.set_yticks([-1.0, 0., 1])\n",
    "plt.show()"
   ]
  },
  {
   "cell_type": "markdown",
   "id": "0a6c2a2f",
   "metadata": {},
   "source": [
    "If the errors are *not* symmetric:"
   ]
  },
  {
   "cell_type": "code",
   "execution_count": null,
   "id": "736f31fe",
   "metadata": {},
   "outputs": [],
   "source": [
    "plt.rcParams['text.usetex'] = True\n",
    "x = 2*np.pi*np.linspace(0,1,10)\n",
    "y = np.sin(x)\n",
    "x_err = 0.1*np.random.rand(10)\n",
    "y_min = 0.2*np.random.rand(10)\n",
    "y_max = 0.2*np.random.rand(10)\n",
    "y_err = [y_min, y_max]\n",
    "fig, ax = plt.subplots()\n",
    "ax.errorbar(x, y, xerr = x_err, yerr = y_err, marker='o', ecolor = 'r', \n",
    "            elinewidth = 1, barsabove=True)\n",
    "ax.set_xlabel(r'$\\theta$', fontsize = 16)\n",
    "ax.set_ylabel(r'$f(\\theta)$', fontsize = 16)\n",
    "ax.set_xticks([0., 0.5*np.pi, np.pi, 1.5*np.pi, 2*np.pi], labels = [\"$0$\", r\"$\\frac{1}{2}\\pi$\",\n",
    "                       r\"$\\pi$\", r\"$\\frac{3}{2}\\pi$\", r\"$2\\pi$\"])\n",
    "ax.set_yticks([-1.0, 0., 1])\n",
    "plt.show()"
   ]
  },
  {
   "cell_type": "markdown",
   "id": "12032b8b",
   "metadata": {},
   "source": [
    "**Homework assignment (in case you want to practice some more)**\n",
    "\n",
    "Consider the following two functions<br>\n",
    "$$\n",
    "\\begin{equation}\n",
    "\\begin{split}\n",
    "\\mathrm{sinc}(x)&=\\frac{\\sin(x)}{x}\\\\\n",
    "\\mathrm{sinc}(\\pi\\,x)&=\\frac{\\sin(\\pi x)}{\\pi x}\n",
    "\\end{split}\n",
    "\\end{equation}\n",
    "$$\n",
    "\n",
    "1. Create a graph for $\\mathrm{sinc}(x)$ for $-6\\leq x\\leq 6$ and in an inset a graph for $\\mathrm{sinc}(\\pi x)$ for the same values ​​of x.\n",
    "2. Annotate both graphs with arrows indicating the first minima of both functions.\n",
    "3. Now plot both functions on the same graph and use an inset to zoom in on the region where these two curves overlap.\n",
    "4. In each case above, it includes error bars taken randomly from a normal distribution with mean 0 and standard deviation 2."
   ]
  }
 ],
 "metadata": {
  "kernelspec": {
   "display_name": "base",
   "language": "python",
   "name": "python3"
  },
  "language_info": {
   "codemirror_mode": {
    "name": "ipython",
    "version": 3
   },
   "file_extension": ".py",
   "mimetype": "text/x-python",
   "name": "python",
   "nbconvert_exporter": "python",
   "pygments_lexer": "ipython3",
   "version": "3.12.8"
  }
 },
 "nbformat": 4,
 "nbformat_minor": 5
}

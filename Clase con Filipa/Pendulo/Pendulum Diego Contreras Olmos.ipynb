{
 "cells": [
  {
   "cell_type": "markdown",
   "metadata": {},
   "source": [
    "# Pendulum exercise\n",
    "\n",
    "\n"
   ]
  },
  {
   "cell_type": "code",
   "execution_count": null,
   "metadata": {},
   "outputs": [],
   "source": [
    "import matplotlib.pyplot as plt\n",
    "import numpy as np\n",
    "\n",
    "\n",
    "#I first start with the directory\n",
    "\n",
    "path = \"/Users/diego/Desktop/Física computacional/Fisica-Computacional/Clase con Filipa/\"\n",
    "folder= path + \"/Pendulo/\"\n",
    "\n",
    "#I read the data and locate it in 'datos'.\n",
    "#'Longitud' and 'tiempo'\n",
    "\n",
    "datos = np.load(folder + 'datos.npy')\n",
    "\n",
    "longitud = np.array(11)\n",
    "\n",
    "print(\"Shape of datos\", datos.shape)\n",
    "\n",
    "#I check whether it is correct.\n",
    "\n",
    "longitud=datos[:,0]\n",
    "lerr=datos[:,1]\n",
    "tiempo=datos[:, -10:]\n",
    "print(longitud, \"\\n\")\n",
    "print(lerr, \"\\n\")\n",
    "print(tiempo[3, :], \"\\n\")\n",
    "print(datos)"
   ]
  },
  {
   "cell_type": "code",
   "execution_count": null,
   "metadata": {},
   "outputs": [],
   "source": [
    "#We implement the functions"
   ]
  }
 ],
 "metadata": {
  "kernelspec": {
   "display_name": "base",
   "language": "python",
   "name": "python3"
  },
  "language_info": {
   "codemirror_mode": {
    "name": "ipython",
    "version": 3
   },
   "file_extension": ".py",
   "mimetype": "text/x-python",
   "name": "python",
   "nbconvert_exporter": "python",
   "pygments_lexer": "ipython3",
   "version": "3.12.8"
  }
 },
 "nbformat": 4,
 "nbformat_minor": 2
}

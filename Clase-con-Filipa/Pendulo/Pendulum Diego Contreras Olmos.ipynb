{
 "cells": [
  {
   "cell_type": "markdown",
   "metadata": {},
   "source": [
    "# Pendulum exercise\n",
    "\n",
    "\n"
   ]
  },
  {
   "cell_type": "code",
   "execution_count": 45,
   "metadata": {},
   "outputs": [
    {
     "name": "stdout",
     "output_type": "stream",
     "text": [
      "Shape of datos (11, 12)\n",
      "[1.  1.1 1.2 1.3 1.4 1.5 1.6 1.7 1.8 1.9 2. ] \n",
      "\n",
      "[0.01 0.01 0.01 0.01 0.01 0.01 0.01 0.01 0.01 0.01 0.01] \n",
      "\n",
      "[22.86238279 22.87286153 22.88663756 22.90760653 22.86880205 22.86750249\n",
      " 22.86246088 22.87985097 22.85209103 22.85472628] \n",
      "\n",
      "[[1.00000000e+00 1.00000000e-02 2.00564044e+01 2.00596342e+01\n",
      "  2.00288029e+01 2.00491975e+01 2.00598287e+01 2.01117378e+01\n",
      "  2.00535660e+01 2.00498503e+01 2.01117587e+01 2.00482932e+01]\n",
      " [1.10000000e+00 1.00000000e-02 2.10377748e+01 2.10494412e+01\n",
      "  2.10284023e+01 2.10632874e+01 2.10452145e+01 2.10202737e+01\n",
      "  2.10411540e+01 2.10298943e+01 2.10552815e+01 2.10424214e+01]\n",
      " [1.20000000e+00 1.00000000e-02 2.19395841e+01 2.19721582e+01\n",
      "  2.20076305e+01 2.19930012e+01 2.19866379e+01 2.19803240e+01\n",
      "  2.19625542e+01 2.19939750e+01 2.19647199e+01 2.19828847e+01]\n",
      " [1.30000000e+00 1.00000000e-02 2.28623828e+01 2.28728615e+01\n",
      "  2.28866376e+01 2.29076065e+01 2.28688020e+01 2.28675025e+01\n",
      "  2.28624609e+01 2.28798510e+01 2.28520910e+01 2.28547263e+01]\n",
      " [1.40000000e+00 1.00000000e-02 2.37548785e+01 2.37383929e+01\n",
      "  2.37454380e+01 2.37705892e+01 2.37502420e+01 2.37443970e+01\n",
      "  2.37328819e+01 2.37512017e+01 2.37584332e+01 2.37269226e+01]\n",
      " [1.50000000e+00 1.00000000e-02 2.45879528e+01 2.45868866e+01\n",
      "  2.45915758e+01 2.45610537e+01 2.45975040e+01 2.45666984e+01\n",
      "  2.45777173e+01 2.45827961e+01 2.45713722e+01 2.45737635e+01]\n",
      " [1.60000000e+00 1.00000000e-02 2.53810504e+01 2.54366502e+01\n",
      "  2.53901965e+01 2.53805975e+01 2.53674846e+01 2.53963529e+01\n",
      "  2.53820471e+01 2.53766275e+01 2.53922024e+01 2.53707785e+01]\n",
      " [1.70000000e+00 1.00000000e-02 2.61420546e+01 2.61485336e+01\n",
      "  2.61133415e+01 2.61595095e+01 2.61441209e+01 2.61861230e+01\n",
      "  2.61450315e+01 2.61708231e+01 2.61543314e+01 2.61476948e+01]\n",
      " [1.80000000e+00 1.00000000e-02 2.69502690e+01 2.68825690e+01\n",
      "  2.69172711e+01 2.69194944e+01 2.69137255e+01 2.68923672e+01\n",
      "  2.69107793e+01 2.69107872e+01 2.69195107e+01 2.69337688e+01]\n",
      " [1.90000000e+00 1.00000000e-02 2.76437194e+01 2.76846921e+01\n",
      "  2.76591985e+01 2.76475822e+01 2.76476343e+01 2.76428547e+01\n",
      "  2.76444411e+01 2.76515746e+01 2.76467627e+01 2.76898738e+01]\n",
      " [2.00000000e+00 1.00000000e-02 2.83629363e+01 2.84120689e+01\n",
      "  2.84114240e+01 2.83326826e+01 2.84270653e+01 2.83727410e+01\n",
      "  2.83703555e+01 2.83793112e+01 2.83855759e+01 2.83651826e+01]]\n"
     ]
    }
   ],
   "source": [
    "import matplotlib.pyplot as plt\n",
    "import numpy as np\n",
    "\n",
    "\n",
    "#I first start with the directory\n",
    "\n",
    "path = \"/Users/diego/Desktop/Física computacional/Fisica-Computacional/Clase con Filipa/\"\n",
    "folder= path + \"/Pendulo/\"\n",
    "\n",
    "#I read the data and locate it in 'datos'.\n",
    "#'Longitud' and 'tiempo' have the longitude and time, it is just a preference of mine.\n",
    "\n",
    "datos = np.load(folder + 'datos.npy')\n",
    "\n",
    "longitud = np.zeros(len(datos[:,0]))\n",
    "\n",
    "print(\"Shape of datos\", datos.shape)\n",
    "\n",
    "#We check whether it is correct.\n",
    "#This program is pretty general, but we can make it more general by calling longitud=x and tiempo=y\n",
    "\n",
    "longitud=datos[:,0]\n",
    "lerr=datos[:,1]\n",
    "tiempo=datos[:, -10:]\n",
    "\n",
    "print(longitud, \"\\n\")\n",
    "print(lerr, \"\\n\")\n",
    "print(tiempo[3, :], \"\\n\")\n",
    "print(datos)"
   ]
  },
  {
   "cell_type": "markdown",
   "metadata": {},
   "source": []
  },
  {
   "cell_type": "code",
   "execution_count": 46,
   "metadata": {},
   "outputs": [
    {
     "data": {
      "text/plain": [
       "'\\nmedia1=media(tiempo[0, :])\\nprint(media1)\\n'"
      ]
     },
     "execution_count": 46,
     "metadata": {},
     "output_type": "execute_result"
    }
   ],
   "source": [
    "#Implement the functions\n",
    "\n",
    "def media(tiempo):\n",
    "    \"\"\"It calculates the average time of an array of time.\n",
    "\n",
    "    Args:\n",
    "        tiempo (_float array_): Variable used to calculate the average time\n",
    "    \n",
    "    Returns:\n",
    "        average (_float_): Average time of the array 'tiempo'\n",
    "    \"\"\"\n",
    "    average= np.array(len(tiempo))\n",
    "    suma=0.0\n",
    "    \n",
    "    #We will use the auxiliary variable 'suma' to help us.\n",
    "    \n",
    "    for i in range(len(tiempo)):\n",
    "        suma=suma+tiempo[i]\n",
    "    \n",
    "    average=suma/len(tiempo)\n",
    "    return average\n",
    "\n",
    "\n",
    "#Lets check it.\n",
    "\"\"\"\n",
    "media1=media(tiempo[0, :])\n",
    "print(media1)\n",
    "\"\"\"\n",
    "\n"
   ]
  },
  {
   "cell_type": "code",
   "execution_count": 47,
   "metadata": {},
   "outputs": [
    {
     "name": "stdout",
     "output_type": "stream",
     "text": [
      "[2.00629074 2.10413145 2.1978347  2.28714922 2.37473377 2.4579732\n",
      " 2.53873988 2.61511564 2.69150542 2.76558333 2.83819343]\n"
     ]
    }
   ],
   "source": [
    "#This is an array containing the average time for every longitude.\n",
    "#'Mediatiempo' is the average time for the n oscillations for a longitude l.\n",
    "\n",
    "\n",
    "mediatiempo=np.zeros(len(tiempo[:,0]))\n",
    "\n",
    "for i in range(len(tiempo[:,0])):\n",
    "    mediatiempo[i]=media(tiempo[i,:])\n",
    "\n",
    "#print(mediatiempo) (another check)\n",
    "\n",
    "#And we can also use it to calculate the average time of each oscillation.\n",
    "\n",
    "mediatiempo1=mediatiempo/len(tiempo[0,:])\n",
    "print(mediatiempo1)"
   ]
  },
  {
   "cell_type": "markdown",
   "metadata": {},
   "source": [
    "## Error analysis\n",
    "I will follow the standard error our class has been using for almost 3 years now.\n",
    "\n",
    "First, we calculate the $U_a$ and $U_b$ defined as\n",
    "\n",
    "$$\n",
    "    U_a = \\frac{s}{\\sqrt{N}} \n",
    "$$\n",
    "where\n",
    "$$\n",
    "    s^2=\\frac{1}{n-1}\\sum_{i=1}^{n}{(x_i-\\bar{x})^2}\n",
    "$$\n",
    "$$\n",
    "    U_b= \\frac{\\delta_x}{\\sqrt(12)}\n",
    "$$\n",
    "where $\\delta_x$ is the precision of the instrument, in our case $10^{-8} s$ for the time.\n",
    "\n",
    "With these we will calculate the final error $U_c$\n",
    "\n",
    "$$\n",
    "    U_c=\\sqrt{U_a^2+U_b^2}\n",
    "$$\n",
    "\n",
    "Because of the magnitudes of the errors, the contribution of $U_b$ is practically 0, so we can confidently $U_c \\approx U_a$\n",
    "\n",
    "\n",
    "For indirect measures, such as $T^2$, we will apply the following:\n",
    "$$\n",
    "    U(F(x1,x2,...))=\\sqrt{\\left( \\frac{\\partial F}{\\partial x1}  \\right)^2*U_c^2(x1)+ \\left( \\frac{\\partial F}{\\partial x2}  \\right)^2*U_c^2(x2) + ...        }\n",
    "$$\n",
    "\n"
   ]
  },
  {
   "cell_type": "code",
   "execution_count": 48,
   "metadata": {},
   "outputs": [],
   "source": [
    "#Let us calculate first s\n",
    "\n",
    "def desvest_m(sample):\n",
    "    \"\"\"_This function calculates s, the standard deviation of a given sample.\n",
    "\n",
    "    Args:\n",
    "        sample (_float array_): The array you want to calculate its deviation.\n",
    "        \n",
    "    Returns:\n",
    "        s (_float_): The deviation of that sample.\n",
    "    \"\"\"\n",
    "    #We will use the auxiliary variables 'a,b,m' to further increase the productivity of this command.\n",
    "    a=1/(len(sample)-1)\n",
    "    b=0.0\n",
    "    m=media(sample)\n",
    "    \n",
    "    for i in range(len(sample)):\n",
    "        b=b+(sample[i]-m)**2\n",
    "        \n",
    "    s=(a*b)**(0.5)\n",
    "    s=np.std(sample)\n",
    "    return s"
   ]
  },
  {
   "cell_type": "code",
   "execution_count": 49,
   "metadata": {},
   "outputs": [
    {
     "name": "stdout",
     "output_type": "stream",
     "text": [
      "[0.00815827 0.00388944 0.00581869 0.00495033 0.00382359 0.00348224\n",
      " 0.00586584 0.0057515  0.00569477 0.00518035 0.00843833]\n",
      "[0.00081583 0.00038894 0.00058187 0.00049503 0.00038236 0.00034822\n",
      " 0.00058658 0.00057515 0.00056948 0.00051803 0.00084383]\n"
     ]
    }
   ],
   "source": [
    "#Now we can calculate the error.\n",
    "#The termination 't' or 'l' refers to the time or longitude respectively.\n",
    "\n",
    "Uat = np.zeros(len(tiempo[:,0]))\n",
    "\n",
    "for i in range(len(tiempo[:,0])):\n",
    "    Uat[i]=desvest_m(tiempo[i,:])/(np.sqrt(len(tiempo[0,:])))\n",
    "\n",
    "Ual =lerr\n",
    "#And for the error for each oscillation.\n",
    "\n",
    "Ua1t=Uat/len(tiempo[0,:])\n",
    "\n",
    "print(Uat) \n",
    "print(Ua1t) #(check)\n"
   ]
  },
  {
   "cell_type": "markdown",
   "metadata": {},
   "source": [
    "## Plotting the period in function of the longitude."
   ]
  },
  {
   "cell_type": "code",
   "execution_count": 50,
   "metadata": {},
   "outputs": [
    {
     "data": {
      "image/png": "[encoded data removed]",
      "text/plain": [
       "<Figure size 640x480 with 1 Axes>"
      ]
     },
     "metadata": {},
     "output_type": "display_data"
    }
   ],
   "source": [
    "#We will plot it in a subplot called ax just because.\n",
    "\n",
    "plt.rcParams['text.usetex'] = True\n",
    "\n",
    "x = longitud\n",
    "y = mediatiempo1\n",
    "\n",
    "fig, ax = plt.subplots()\n",
    "\n",
    "#These axis the -0.05 are just so it does not touch the borders.\n",
    "#It is not perfect. If 'longitude' was decreasing this would destroy some data, so we have to check whether it is increasing or decreasing \n",
    "#Also the errors can be hidden in the borders, but in this case they are ultra small.\n",
    "\n",
    "ax.axis([longitud[0]-0.05, longitud[-1]+0.05, mediatiempo1[0]-0.05,mediatiempo1[-1]+0.05])  \n",
    "ax.plot(x,y, label = r'Relation')\n",
    "ax.set_xlabel(r'Longitude (m)', fontsize = 16)           \n",
    "ax.set_ylabel(r'Time (s)', fontsize = 16)     \n",
    "ax.legend()                                     \n",
    "ax.set_title(r'\\textbf{Time respect to longitude}', fontsize = 20)\n",
    "\n",
    "#Now for the error bars\n",
    "\n",
    "ax.errorbar(x, y, xerr = Ual, yerr = Ua1t, fmt= ''    , ecolor= 'r', elinewidth = 1, \n",
    "            barsabove=True, linestyle = 'dotted')\n",
    "     \n",
    "plt.show()"
   ]
  },
  {
   "cell_type": "markdown",
   "metadata": {},
   "source": [
    "## Using scipy to fit a curve and find the value of 'g'.\n",
    "\n",
    "We have the relation of g (gravity),l (longitude),and T (period).\n",
    "we can transform it to:\n",
    "\n",
    "$$\n",
    "4 \\pi^2*l=T^2g \n",
    "$$\n",
    "which follows the relation of\n",
    "$$\n",
    "y = m*x\n",
    "$$\n",
    "\n",
    "We can do then the Pearson coefficient just like:\n",
    "$$\n",
    "\n",
    "r_{xy}=\\frac{n\\Sigma x_iy_i - \\Sigma x_i \\Sigma yi}{\\sqrt{n\\Sigma x_i^2 - (\\Sigma x_i)^2}\\sqrt{n\\Sigma y_i^2 - (\\Sigma y_i)^2}}\n",
    "$$ =\n",
    "\n",
    "The coefficient '$r_{xy}$' takes values from -1 to 1 indicating perfect inverse and direct linear correlation respectively. The closer it is to 0, the worse linear fit is."
   ]
  },
  {
   "cell_type": "code",
   "execution_count": null,
   "metadata": {},
   "outputs": [
    {
     "name": "stdout",
     "output_type": "stream",
     "text": [
      "[0.00327357 0.00163678 0.0025577  0.00226443 0.001816   0.00171185\n",
      " 0.00297837 0.00300817 0.0030655  0.00286534 0.00478992]\n",
      "[0.39478418 0.39478418 0.39478418 0.39478418 0.39478418 0.39478418\n",
      " 0.39478418 0.39478418 0.39478418 0.39478418 0.39478418]\n"
     ]
    },
    {
     "data": {
      "image/png": "[encoded data removed]",
      "text/plain": [
       "<Figure size 640x480 with 1 Axes>"
      ]
     },
     "metadata": {},
     "output_type": "display_data"
    },
    {
     "name": "stdout",
     "output_type": "stream",
     "text": [
      "The results are 9.806021019224822 ± 0.019286907179060904\n",
      "The pearson coefficient is 0.9999976176241687\n"
     ]
    }
   ],
   "source": [
    "from scipy.optimize import curve_fit\n",
    "\n",
    "\n",
    "#We describe the function as a linear function y=mx where \n",
    "# y= 4pi^2l and m=T^2, the x is going to be g.\n",
    "\n",
    "x=mediatiempo1**2\n",
    "y=4*np.pi**2*longitud\n",
    "Ux=Ua1t*2*mediatiempo1\n",
    "Uy=Ual*4*np.pi**2\n",
    "\n",
    "def fun(x,m):\n",
    "    return m*x\n",
    "\n",
    "#Popt is the optimal values for the parameters so the residuals are minimal\n",
    "#Pcov is the matrix whose diagonal is the variance of the parameter.\n",
    "\n",
    "popt, pcov = curve_fit(fun, x, y, sigma=Uy, absolute_sigma=True)\n",
    "\n",
    "#Now we predict the y data from the popt\n",
    "\n",
    "ypredict= fun(x, popt)\n",
    "\n",
    "#The errors will be the following.\n",
    "\n",
    "#print(Ux)\n",
    "#print(Uy)\n",
    "\n",
    "\n",
    "#We can use the Pearson coefficient to measure the linear fit between y and x. \n",
    "\n",
    "\n",
    "mediax=media(x)\n",
    "mediay=media(y)\n",
    "mediaxy=media(x*y)\n",
    "n=len(x)\n",
    "x2=y2=xy=xa=ya=0.0\n",
    "for i in range(n):\n",
    "    x2 = x[i]*x[i]+x2\n",
    "    y2 = y[i]*y[i]+y2 \n",
    "\n",
    "pearson= (n**2*mediaxy-n**2*mediax*mediay)/(np.sqrt(n*x2-(n*mediax)**2)*np.sqrt(n*y2-(n*mediay)**2))\n",
    "\n",
    "\n",
    "#Now we can plot it.\n",
    "\n",
    "\n",
    "fig, ax2 = plt.subplots()\n",
    "\n",
    "\n",
    "ax2.axis([longitud[0]-0.05, longitud[-1]+0.05, mediatiempo1[0]-0.05, mediatiempo1[-1]+0.05])\n",
    "\n",
    "\n",
    "#These axis the -0.05 are just so it does not touch the borders.\n",
    "#It is not perfect. If 'longitude' was decreasing this would destroy some data, so we have to check whether it is increasing or decreasing \n",
    "\n",
    "ax2.axis([x[0]-0.2, x[-1]+0.2, ypredict[0]-0.5,ypredict[-1]+0.5])  \n",
    "ax2.plot(x, ypredict, label = r'Fitting of the curve', linewidth=1.0)\n",
    "ax2.set_xlabel(r'$T^2 g (m)$', fontsize = 16)           \n",
    "ax2.set_ylabel(r'$4\\pi^2 l (m)$', fontsize = 16)     \n",
    "ax2.legend()                                     \n",
    "ax2.set_title(r'\\textbf{Time respect to longitude}', fontsize = 20)\n",
    "\n",
    "#Now for the error bars\n",
    "\n",
    "ax2.errorbar(x, y, xerr = Ux, yerr = Uy, fmt= '', ecolor= 'r', elinewidth = 1, \n",
    "            barsabove=True, linestyle = 'dotted')\n",
    "     \n",
    "plt.show()\n",
    "print(\"The results are\", popt[0], u\"\\u00B1\", (pcov[0,0])**0.5)\n",
    "print(\"The pearson coefficient is\", pearson)\n"
   ]
  },
  {
   "cell_type": "code",
   "execution_count": null,
   "metadata": {},
   "outputs": [
    {
     "name": "stdout",
     "output_type": "stream",
     "text": [
      "[0.00081583 0.00038894 0.00058187 0.00049503 0.00038236 0.00034822\n",
      " 0.00058658 0.00057515 0.00056948 0.00051803 0.00084383]\n",
      "[0.01 0.01 0.01 0.01 0.01 0.01 0.01 0.01 0.01 0.01 0.01]\n",
      "The results are 9.80561691532198 ± 0.0012141805348944558\n",
      "The pearson coefficient is 0.9988402446586612\n"
     ]
    },
    {
     "data": {
      "image/png": "[encoded data removed]",
      "text/plain": [
       "<Figure size 640x480 with 1 Axes>"
      ]
     },
     "metadata": {},
     "output_type": "display_data"
    }
   ],
   "source": [
    "\n",
    "\"\"\"\n",
    "from scipy.optimize import curve_fit\n",
    "\n",
    "\n",
    "#We describe the function as a linear function y=mx where \n",
    "# y= 4pi^2l and m=T^2, the x is going to be g.\n",
    "\n",
    "x=mediatiempo1**2\n",
    "y=4*np.pi**2*longitud\n",
    "\n",
    "\n",
    "x=longitud\n",
    "y=mediatiempo1\n",
    "\n",
    "\n",
    "\n",
    "def fun(x,m):\n",
    "    return 2*np.pi*np.sqrt(x/m)\n",
    "\n",
    "#Popt is the optimal values for the parameters so the residuals are minimal\n",
    "#Pcov is the matrix whose diagonal is the variance of the parameter.\n",
    "\n",
    "popt, pcov = curve_fit(fun, x, y, sigma=Ua1t, absolute_sigma=True)\n",
    "\n",
    "#Now we predict the y data from the popt\n",
    "\n",
    "ypredict= fun(x, popt)\n",
    "\n",
    "#The errors will be the following.\n",
    "\n",
    "Ux=Ua1t\n",
    "Uy=Ual\n",
    "print(Ux)\n",
    "print(Uy)\n",
    "\n",
    "\n",
    "#We can use the Pearson coefficient to measure the linear fit between y and x. \n",
    "\n",
    "\n",
    "mediax=media(x)\n",
    "mediay=media(y)\n",
    "mediaxy=media(x*y)\n",
    "n=len(x)\n",
    "x2=y2=xy=xa=ya=0.0\n",
    "for i in range(n):\n",
    "    x2 = x[i]*x[i]+x2\n",
    "    y2 = y[i]*y[i]+y2 \n",
    "\n",
    "pearson= (n**2*mediaxy-n**2*mediax*mediay)/(np.sqrt(n*x2-(n*mediax)**2)*np.sqrt(n*y2-(n*mediay)**2))\n",
    "\n",
    "\n",
    "#Now we can plot it.\n",
    "\n",
    "print(\"The results are\", popt[0], u\"\\u00B1\", (pcov[0,0])**0.5)\n",
    "print(\"The pearson coefficient is\", pearson)\n",
    "fig, ax2 = plt.subplots()\n",
    "\n",
    "\n",
    "ax2.axis([longitud[0]-0.05, longitud[-1]+0.05, mediatiempo1[0]-0.05, mediatiempo1[-1]+0.05])\n",
    "\n",
    "\n",
    "#These axis the -0.05 are just so it does not touch the borders.\n",
    "#It is not perfect. If 'longitude' was decreasing this would destroy some data, so we have to check whether it is increasing or decreasing \n",
    "\n",
    "ax2.axis([x[0]-0.2, x[-1]+0.2, ypredict[0]-0.5,ypredict[-1]+0.5])  \n",
    "ax2.plot(x, ypredict, label = r'Fitting of the curve', linewidth=1.0)\n",
    "ax2.set_xlabel(r'$T^2 g (m)$', fontsize = 16)           \n",
    "ax2.set_ylabel(r'$4\\pi^2 l (m)$', fontsize = 16)     \n",
    "ax2.legend()                                     \n",
    "ax2.set_title(r'\\textbf{Time respect to longitude}', fontsize = 20)\n",
    "\n",
    "#Now for the error bars\n",
    "\n",
    "ax2.errorbar(x, y, xerr = Ux, yerr = Uy, fmt= '', ecolor= 'r', elinewidth = 1, \n",
    "            barsabove=True, linestyle = 'dotted')\n",
    "     \n",
    "plt.show()\n",
    "\n",
    "\n",
    "\"\"\"\n"
   ]
  }
 ],
 "metadata": {
  "kernelspec": {
   "display_name": "base",
   "language": "python",
   "name": "python3"
  },
  "language_info": {
   "codemirror_mode": {
    "name": "ipython",
    "version": 3
   },
   "file_extension": ".py",
   "mimetype": "text/x-python",
   "name": "python",
   "nbconvert_exporter": "python",
   "pygments_lexer": "ipython3",
   "version": "3.12.8"
  }
 },
 "nbformat": 4,
 "nbformat_minor": 2
}

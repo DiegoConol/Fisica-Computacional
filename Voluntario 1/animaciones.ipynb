{
 "cells": [
  {
   "cell_type": "code",
   "execution_count": 6,
   "id": "7dc8310a",
   "metadata": {},
   "outputs": [],
   "source": [
    "# Programa para leer el archivo de texto.\n",
    "\n",
    "def leer_posiciones(filename):\n",
    "    posiciones = []  # Lista para almacenar las posiciones de cada paso temporal\n",
    "\n",
    "    with open(filename, 'r') as file:\n",
    "        paso_actual = []  # Lista temporal para almacenar las posiciones de un paso temporal\n",
    "\n",
    "        for linea in file:\n",
    "            linea = linea.strip()\n",
    "            if linea:  # Si la línea no está vacía\n",
    "                datos = linea.split(\",\")  # Dividimos por coma\n",
    "                r1x, r1y = float(datos[0]), float(datos[1])  # Tomamos las dos primeras columnas\n",
    "                paso_actual.append((r1x, r1y))\n",
    "            else:  # Si encontramos una línea vacía, significa que termina un paso temporal\n",
    "                if paso_actual:  # Si hay datos en el paso actual\n",
    "                    posiciones.append(paso_actual)\n",
    "                    paso_actual = []  # Reiniciamos para el siguiente paso temporal\n",
    "\n",
    "        # Añadimos el último paso si no está vacío\n",
    "        if paso_actual:\n",
    "            posiciones.append(paso_actual)\n",
    "\n",
    "    return posiciones"
   ]
  },
  {
   "cell_type": "code",
   "execution_count": null,
   "id": "18c467c0",
   "metadata": {},
   "outputs": [
    {
     "name": "stdout",
     "output_type": "stream",
     "text": [
      "Video guardado como 'simulacion.mp4'.\n"
     ]
    },
    {
     "data": {
      "image/png": "[encoded data removed]",
      "text/plain": [
       "<Figure size 600x600 with 1 Axes>"
      ]
     },
     "metadata": {},
     "output_type": "display_data"
    }
   ],
   "source": [
    "import matplotlib.pyplot as plt\n",
    "from matplotlib.animation import FuncAnimation, PillowWriter\n",
    "import matplotlib.animation as animation\n",
    "\n",
    "# Función para leer las posiciones\n",
    "def leer_posiciones(filename):\n",
    "    posiciones = []  # Lista para almacenar las posiciones de cada paso temporal\n",
    "\n",
    "    with open(filename, 'r') as file:\n",
    "        paso_actual = []  # Lista temporal para almacenar las posiciones de un paso temporal\n",
    "\n",
    "        for linea in file:\n",
    "            linea = linea.strip()\n",
    "            if linea:  # Si la línea no está vacía\n",
    "                datos = linea.split(\",\")  # Dividimos por coma\n",
    "                r1x, r1y = float(datos[0]), float(datos[1])  # Tomamos las dos primeras columnas\n",
    "                paso_actual.append((r1x, r1y))\n",
    "            else:  # Si encontramos una línea vacía, significa que termina un paso temporal\n",
    "                if paso_actual:  # Si hay datos en el paso actual\n",
    "                    posiciones.append(paso_actual)\n",
    "                    paso_actual = []  # Reiniciamos para el siguiente paso temporal\n",
    "\n",
    "        # Añadimos el último paso si no está vacío\n",
    "        if paso_actual:\n",
    "            posiciones.append(paso_actual)\n",
    "\n",
    "    return posiciones\n",
    "\n",
    "# Función para crear la animación\n",
    "def crear_animacion(posiciones, caja_lado=10, intervalo=10, guardar_gif=False, guardar_video=False):\n",
    "    fig, ax = plt.subplots(figsize=(6, 6))\n",
    "    ax.set_xlim(0, caja_lado)\n",
    "    ax.set_ylim(0, caja_lado)\n",
    "    ax.set_xlabel(\"x\")\n",
    "    ax.set_ylabel(\"y\")\n",
    "    ax.set_title(\"Simulación de partículas\")\n",
    "    scatter = ax.scatter([], [], c='blue', label=\"Partículas\")\n",
    "    ax.legend()\n",
    "    ax.grid(True)\n",
    "\n",
    "    # Función para actualizar los datos en cada frame\n",
    "    def actualizar(frame):\n",
    "        paso = posiciones[frame]\n",
    "        x = [pos[0] for pos in paso]\n",
    "        y = [pos[1] for pos in paso]\n",
    "        scatter.set_offsets(list(zip(x, y)))\n",
    "        ax.set_title(f\"Paso temporal {frame + 1}\")\n",
    "\n",
    "    # Crear la animación\n",
    "    anim = FuncAnimation(fig, actualizar, frames=len(posiciones), interval=intervalo)\n",
    "\n",
    "    # Guardar como GIF si se solicita\n",
    "    if guardar_gif:\n",
    "        gif_writer = PillowWriter(fps=1000 // intervalo)\n",
    "        anim.save(\"simulacion.gif\", writer=gif_writer)\n",
    "        print(\"GIF guardado como 'simulacion.gif'.\")\n",
    "\n",
    "    # Guardar como video si se solicita\n",
    "    if guardar_video:\n",
    "        video_writer = animation.FFMpegWriter(fps=1000 // intervalo)\n",
    "        anim.save(\"simulacion.mp4\", writer=video_writer)\n",
    "        print(\"Video guardado como 'simulacion.mp4'.\")\n",
    "\n",
    "    plt.show()\n",
    "\n",
    "# Ejemplo de uso\n",
    "if __name__ == \"__main__\":\n",
    "    archivo = \"SALIDA.txt\"  # Nombre del archivo de salida generado por el programa en C\n",
    "    posiciones = leer_posiciones(archivo)\n",
    "\n",
    "    # Crear la animación\n",
    "    # Cambia `guardar_gif` o `guardar_video` a True si deseas guardar la animación\n",
    "    crear_animacion(posiciones, caja_lado=10, intervalo=10, guardar_gif=False, guardar_video=True)"
   ]
  }
 ],
 "metadata": {
  "kernelspec": {
   "display_name": "base",
   "language": "python",
   "name": "python3"
  },
  "language_info": {
   "codemirror_mode": {
    "name": "ipython",
    "version": 3
   },
   "file_extension": ".py",
   "mimetype": "text/x-python",
   "name": "python",
   "nbconvert_exporter": "python",
   "pygments_lexer": "ipython3",
   "version": "3.12.8"
  }
 },
 "nbformat": 4,
 "nbformat_minor": 5
}
